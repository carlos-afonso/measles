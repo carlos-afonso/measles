{
 "cells": [
  {
   "cell_type": "markdown",
   "metadata": {},
   "source": [
    "# NYC Measles Cases by Age (2018 - 2019)\n",
    "\n",
    "* This Jupyter/Python notebook creates a bar chart of the 2018-2019 NYC Measles Cases by Age.\n",
    "* This notebook is part of the [Visualizing the 2019 Measles Outbreak](https://carlos-afonso.github.io/measles/) GitHub project, under [MIT License](https://github.com/carlos-afonso/measles/blob/master/LICENSE).\n",
    "* [Carlos Afonso](https://www.linkedin.com/in/carlos-afonso-w/), August 1, 2019."
   ]
  },
  {
   "cell_type": "markdown",
   "metadata": {},
   "source": [
    "## Import Libraries"
   ]
  },
  {
   "cell_type": "code",
   "execution_count": 1,
   "metadata": {},
   "outputs": [],
   "source": [
    "# Import the necessary libraries/modules\n",
    "from datetime import datetime\n",
    "import matplotlib.pyplot as plt\n",
    "import os\n",
    "import pandas as pd"
   ]
  },
  {
   "cell_type": "markdown",
   "metadata": {},
   "source": [
    "## Import Data\n",
    "\n",
    "The data has been manually collected/updated from the source ([NYC Health Measles webpage](https://www1.nyc.gov/site/doh/health/health-topics/measles.page)) and saved as a [CSV file](https://github.com/carlos-afonso/measles/blob/master/data/nyc-measles-cases-by-age.csv). We use this manual approach because the data is small and updated infrequently (usually once a week)."
   ]
  },
  {
   "cell_type": "code",
   "execution_count": 2,
   "metadata": {},
   "outputs": [],
   "source": [
    "# Set (relative) path to the CSV data file\n",
    "data_file = '../data/nyc-measles-cases-by-age.csv'\n",
    "\n",
    "# Import data from the CSV file as a pandas dataframe\n",
    "df = pd.read_csv(data_file)"
   ]
  },
  {
   "cell_type": "markdown",
   "metadata": {},
   "source": [
    "## Extract Data\n",
    "\n",
    "Extract and transform the data necessary to create the bar chart.\n",
    "\n",
    "Each row in the dataframe is a data update. We want the latest data which is the last row in the dataframe."
   ]
  },
  {
   "cell_type": "code",
   "execution_count": 3,
   "metadata": {},
   "outputs": [
    {
     "data": {
      "text/html": [
       "<div>\n",
       "<style scoped>\n",
       "    .dataframe tbody tr th:only-of-type {\n",
       "        vertical-align: middle;\n",
       "    }\n",
       "\n",
       "    .dataframe tbody tr th {\n",
       "        vertical-align: top;\n",
       "    }\n",
       "\n",
       "    .dataframe thead th {\n",
       "        text-align: right;\n",
       "    }\n",
       "</style>\n",
       "<table border=\"1\" class=\"dataframe\">\n",
       "  <thead>\n",
       "    <tr style=\"text-align: right;\">\n",
       "      <th></th>\n",
       "      <th>Start Date</th>\n",
       "      <th>End Date</th>\n",
       "      <th>Under 1 year</th>\n",
       "      <th>1 to 4 years</th>\n",
       "      <th>5 to 17 years</th>\n",
       "      <th>18 years and over</th>\n",
       "      <th>Total</th>\n",
       "    </tr>\n",
       "  </thead>\n",
       "  <tbody>\n",
       "    <tr>\n",
       "      <th>9</th>\n",
       "      <td>2018-09-01</td>\n",
       "      <td>2019-08-19</td>\n",
       "      <td>101</td>\n",
       "      <td>278</td>\n",
       "      <td>146</td>\n",
       "      <td>129</td>\n",
       "      <td>654</td>\n",
       "    </tr>\n",
       "  </tbody>\n",
       "</table>\n",
       "</div>"
      ],
      "text/plain": [
       "   Start Date    End Date  Under 1 year  1 to 4 years  5 to 17 years  \\\n",
       "9  2018-09-01  2019-08-19           101           278            146   \n",
       "\n",
       "   18 years and over  Total  \n",
       "9                129    654  "
      ]
     },
     "execution_count": 3,
     "metadata": {},
     "output_type": "execute_result"
    }
   ],
   "source": [
    "# Show the latest data (last row in the dataframe)\n",
    "df.tail(1)"
   ]
  },
  {
   "cell_type": "markdown",
   "metadata": {},
   "source": [
    "We want to show the start and end dates in the plot, to provide context. So, let's extract these two dates from the dataframe (last row, first two columns) and transform them into nicelly formatted strings."
   ]
  },
  {
   "cell_type": "code",
   "execution_count": 4,
   "metadata": {},
   "outputs": [
    {
     "data": {
      "text/plain": [
       "['Sep 1, 2018', 'Aug 19, 2019']"
      ]
     },
     "execution_count": 4,
     "metadata": {},
     "output_type": "execute_result"
    }
   ],
   "source": [
    "# Notes about the lambda function below:\n",
    "# - 1. The strptime operation transforms the raw date string to a datetime object;\n",
    "# - 2. The strftime operation transforms the datetime object to a nicelly formatted date string;\n",
    "# - 3. The replace operation removes any leading zeros.\n",
    "[start_date, end_date] = map(\n",
    "    lambda x: datetime.strptime(x, '%Y-%m-%d').strftime('%b %d, %Y').replace(' 0', ' '),\n",
    "    df.iloc[-1, :2]\n",
    ")\n",
    "\n",
    "# Show the nicelly formated date strings\n",
    "[start_date, end_date]"
   ]
  },
  {
   "cell_type": "markdown",
   "metadata": {},
   "source": [
    "We also want to show the total number of cases in the plot, to provide context."
   ]
  },
  {
   "cell_type": "code",
   "execution_count": 5,
   "metadata": {},
   "outputs": [
    {
     "data": {
      "text/plain": [
       "654"
      ]
     },
     "execution_count": 5,
     "metadata": {},
     "output_type": "execute_result"
    }
   ],
   "source": [
    "# Get the number of total cases (last row, last column)\n",
    "total_cases = df.iloc[-1, -1]\n",
    "\n",
    "# Check if there is a problem with the data where the reported total\n",
    "# does not match the sum of the number of cases for each age group\n",
    "if total_cases != df.iloc[-1, 2:-1].sum():\n",
    "    print('WARNING: cases for each age group do NOT add up to the reported total!')\n",
    "\n",
    "total_cases"
   ]
  },
  {
   "cell_type": "markdown",
   "metadata": {},
   "source": [
    "Finally, lets extract the data to actually plot (last row, third to penultimate columns)."
   ]
  },
  {
   "cell_type": "code",
   "execution_count": 6,
   "metadata": {},
   "outputs": [
    {
     "data": {
      "text/plain": [
       "Under 1 year         101\n",
       "1 to 4 years         278\n",
       "5 to 17 years        146\n",
       "18 years and over    129\n",
       "Name: 9, dtype: object"
      ]
     },
     "execution_count": 6,
     "metadata": {},
     "output_type": "execute_result"
    }
   ],
   "source": [
    "# Extract the data to plot (last row, third to penultimate columns)\n",
    "# Call it 'd2p' as an abbrevation for 'data to plot'\n",
    "d2p = df.iloc[-1, 2:-1]\n",
    "d2p"
   ]
  },
  {
   "cell_type": "markdown",
   "metadata": {},
   "source": [
    "## Create Bar Chart\n",
    "\n",
    "We want the bar chart of the NYC Measles Cases by Age to be clear and to contain the necessary context.\n",
    "\n",
    "To contextualize the bar chart we:\n",
    "* use a title that explictly says what the bar chart represents;\n",
    "* use a sub-title that showns the start and end dates, and the total number of cases during that period;\n",
    "* add a text annotation at the bottom that provides information about the data and image sources.\n",
    "\n",
    "To make the bar chart as clear as possible we:\n",
    "* use an horizontal bar chart because it is  easier to read than a vertical one;\n",
    "* explicitly show the number and percentage of cases for each age group;\n",
    "* use a large enough font to make all labels easy to read;\n",
    "* remove unnecessary elements (x-axis ticks and values, y-axis ticks, and plot box)."
   ]
  },
  {
   "cell_type": "code",
   "execution_count": 7,
   "metadata": {},
   "outputs": [
    {
     "data": {
      "image/png": "[encoded data removed]",
      "text/plain": [
       "<Figure size 432x288 with 1 Axes>"
      ]
     },
     "metadata": {
      "needs_background": "light"
     },
     "output_type": "display_data"
    }
   ],
   "source": [
    "# Define font parameters\n",
    "fn = 'Arial' # font name\n",
    "fsb = 14     # font size base\n",
    "\n",
    "# Create figure\n",
    "fig = plt.figure()\n",
    "\n",
    "# Add \"figure title\"\n",
    "fig.suptitle('NYC Measles Cases by Age', fontname=fn, fontsize=(fsb + 6))\n",
    "\n",
    "# Add space between the \"figure title\" and the plot to create space for the \"plot title\".\n",
    "# If we don't add this space the \"figure title\" and the \"plot title\" will overlap. \n",
    "fig.subplots_adjust(top = 0.75)\n",
    "\n",
    "# Add \"plot title\" which we will be using as the \"figure sub-title\"\n",
    "subtitle = str(total_cases) + ' total cases from ' + start_date + ', to ' + end_date + '\\n'\n",
    "plt.title(subtitle, fontname=fn, fontsize=(fsb + 2))\n",
    "\n",
    "# Create the horizontal bar chart\n",
    "ax = d2p.plot.barh(width=0.8, color='silver')\n",
    "\n",
    "# Invert the y-axis\n",
    "ax.invert_yaxis()\n",
    "\n",
    "# Remove the x-axis ticks and values\n",
    "ax.get_xaxis().set_ticks([])\n",
    "\n",
    "# Remove the y-axis ticks only (keep the labels)\n",
    "ax.yaxis.set_ticks_position('none')\n",
    "\n",
    "# Set the y-axis labels font properties\n",
    "ax.set_yticklabels(d2p.keys(), fontname=fn, fontsize=fsb)\n",
    "\n",
    "# Create labels in front of the bars showing the number and percentage of cases.\n",
    "# Note: we round the percentages to the nearest integer.\n",
    "for i in ax.patches:\n",
    "    label = str(i.get_width()) + \" (\" + str(int(round(100 * i.get_width() / total_cases))) + \"%)\"\n",
    "    ax.text(i.get_width() + 5, i.get_y() + 0.5, label, fontname=fn, fontsize=fsb)\n",
    "\n",
    "# Remove the axes box\n",
    "plt.box(False)\n",
    "\n",
    "# Add text about the Data and Image sources\n",
    "sources = 'Data: NYC Health, Image: carlos-afonso.github.io/measles'\n",
    "fig.text(0.5, 0.03, sources, fontname='Lucida Console', fontsize=(fsb - 2), horizontalalignment='center')\n",
    "\n",
    "# Show figure\n",
    "plt.show()"
   ]
  },
  {
   "cell_type": "markdown",
   "metadata": {},
   "source": [
    "## Save Bar Chart"
   ]
  },
  {
   "cell_type": "code",
   "execution_count": 8,
   "metadata": {},
   "outputs": [],
   "source": [
    "# Set image file path/name (without file extension)\n",
    "img_file = '../images/nyc-measles-cases-by-age-bar-chart-py'\n",
    "\n",
    "# Save as PNG image\n",
    "fig.savefig(img_file + '.png', bbox_inches='tight', dpi=200)\n",
    "\n",
    "# Save as SVG image\n",
    "fig.savefig(img_file + '.svg', bbox_inches='tight')"
   ]
  },
  {
   "cell_type": "markdown",
   "metadata": {},
   "source": [
    "## Export Notebook as HTML"
   ]
  },
  {
   "cell_type": "code",
   "execution_count": 9,
   "metadata": {},
   "outputs": [
    {
     "data": {
      "text/plain": [
       "0"
      ]
     },
     "execution_count": 9,
     "metadata": {},
     "output_type": "execute_result"
    }
   ],
   "source": [
    "# Export this notebook as a static HTML page\n",
    "os.system('jupyter nbconvert --to html nyc-measles-cases-by-age.ipynb')"
   ]
  }
 ],
 "metadata": {
  "kernelspec": {
   "display_name": "Python 3",
   "language": "python",
   "name": "python3"
  },
  "language_info": {
   "codemirror_mode": {
    "name": "ipython",
    "version": 3
   },
   "file_extension": ".py",
   "mimetype": "text/x-python",
   "name": "python",
   "nbconvert_exporter": "python",
   "pygments_lexer": "ipython3",
   "version": "3.7.3"
  }
 },
 "nbformat": 4,
 "nbformat_minor": 4
}
