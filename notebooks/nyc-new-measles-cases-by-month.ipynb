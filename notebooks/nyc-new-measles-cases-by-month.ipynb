{
 "cells": [
  {
   "cell_type": "markdown",
   "metadata": {},
   "source": [
    "# NYC New Measles Cases by Month (2018 - 2019)\n",
    "\n",
    "* This Jupyter/Python notebook creates a bar chart of the 2018-2019 NYC New Measles Cases by Month.\n",
    "* This notebook is part of the [Visualizing the 2019 Measles Outbreak](https://carlos-afonso.github.io/measles/) GitHub project, under [MIT License](https://github.com/carlos-afonso/measles/blob/master/LICENSE).\n",
    "* [Carlos Afonso](https://www.linkedin.com/in/carlos-afonso-w/), August 1, 2019."
   ]
  },
  {
   "cell_type": "markdown",
   "metadata": {},
   "source": [
    "## Import Libraries"
   ]
  },
  {
   "cell_type": "code",
   "execution_count": 1,
   "metadata": {},
   "outputs": [],
   "source": [
    "# Import the necessary libraries/modules\n",
    "from datetime import datetime\n",
    "import matplotlib.patches as mpatches\n",
    "import matplotlib.pyplot as plt\n",
    "import os\n",
    "import pandas as pd"
   ]
  },
  {
   "cell_type": "markdown",
   "metadata": {},
   "source": [
    "## Import Data\n",
    "\n",
    "The data has been manually collected/updated from the source ([NYC Health Measles webpage](https://www1.nyc.gov/site/doh/health/health-topics/measles.page)) and saved as a [CSV file](https://github.com/carlos-afonso/measles/blob/master/data/nyc-new-measles-cases-by-month.csv). We use this manual approach because the data is small and updated infrequently (usually once a week)."
   ]
  },
  {
   "cell_type": "code",
   "execution_count": 2,
   "metadata": {},
   "outputs": [],
   "source": [
    "# Set (relative) path to the CSV data file\n",
    "data_file = '../data/nyc-new-measles-cases-by-month.csv'\n",
    "\n",
    "# Import data from the CSV file as a pandas dataframe\n",
    "df = pd.read_csv(data_file)"
   ]
  },
  {
   "cell_type": "markdown",
   "metadata": {},
   "source": [
    "## Extract Data\n",
    "\n",
    "Extract and transform the data necessary to create the bar chart.\n",
    "\n",
    "Each row in the dataframe is a data update. We want the latest data which is the last row in the dataframe."
   ]
  },
  {
   "cell_type": "code",
   "execution_count": 3,
   "metadata": {},
   "outputs": [
    {
     "data": {
      "text/html": [
       "<div>\n",
       "<style scoped>\n",
       "    .dataframe tbody tr th:only-of-type {\n",
       "        vertical-align: middle;\n",
       "    }\n",
       "\n",
       "    .dataframe tbody tr th {\n",
       "        vertical-align: top;\n",
       "    }\n",
       "\n",
       "    .dataframe thead th {\n",
       "        text-align: right;\n",
       "    }\n",
       "</style>\n",
       "<table border=\"1\" class=\"dataframe\">\n",
       "  <thead>\n",
       "    <tr style=\"text-align: right;\">\n",
       "      <th></th>\n",
       "      <th>Start Date</th>\n",
       "      <th>End Date</th>\n",
       "      <th>Sep 2018</th>\n",
       "      <th>Oct 2018</th>\n",
       "      <th>Nov 2018</th>\n",
       "      <th>Dec 2018</th>\n",
       "      <th>Jan 2019</th>\n",
       "      <th>Feb 2019</th>\n",
       "      <th>Mar 2019</th>\n",
       "      <th>Apr 2019</th>\n",
       "      <th>May 2019</th>\n",
       "      <th>Jun 2019</th>\n",
       "      <th>Jul 2019</th>\n",
       "      <th>Total</th>\n",
       "    </tr>\n",
       "  </thead>\n",
       "  <tbody>\n",
       "    <tr>\n",
       "      <th>8</th>\n",
       "      <td>2018-09-01</td>\n",
       "      <td>2019-07-29</td>\n",
       "      <td>1</td>\n",
       "      <td>14</td>\n",
       "      <td>28</td>\n",
       "      <td>14</td>\n",
       "      <td>36</td>\n",
       "      <td>71</td>\n",
       "      <td>170</td>\n",
       "      <td>182</td>\n",
       "      <td>98</td>\n",
       "      <td>22</td>\n",
       "      <td>6</td>\n",
       "      <td>642</td>\n",
       "    </tr>\n",
       "  </tbody>\n",
       "</table>\n",
       "</div>"
      ],
      "text/plain": [
       "   Start Date    End Date  Sep 2018  Oct 2018  Nov 2018  Dec 2018  Jan 2019  \\\n",
       "8  2018-09-01  2019-07-29         1        14        28        14        36   \n",
       "\n",
       "   Feb 2019  Mar 2019  Apr 2019  May 2019  Jun 2019  Jul 2019  Total  \n",
       "8        71       170       182        98        22         6    642  "
      ]
     },
     "execution_count": 3,
     "metadata": {},
     "output_type": "execute_result"
    }
   ],
   "source": [
    "# Show the latest data (last row in the dataframe)\n",
    "df.tail(1)"
   ]
  },
  {
   "cell_type": "markdown",
   "metadata": {},
   "source": [
    "We want to show the start and end dates in the plot, to provide context. So, let's extract these two dates from the dataframe (last row, first two columns) and transform them into nicelly formatted strings."
   ]
  },
  {
   "cell_type": "code",
   "execution_count": 4,
   "metadata": {},
   "outputs": [
    {
     "data": {
      "text/plain": [
       "['Sep 1, 2018', 'Jul 29, 2019']"
      ]
     },
     "execution_count": 4,
     "metadata": {},
     "output_type": "execute_result"
    }
   ],
   "source": [
    "# Notes about the lambda function below:\n",
    "# - 1. The strptime operation transforms the raw date string to a datetime object;\n",
    "# - 2. The strftime operation transforms the datetime object to a nicelly formatted date string;\n",
    "# - 3. The replace operation removes any leading zeros.\n",
    "[start_date, end_date] = map(\n",
    "    lambda x: datetime.strptime(x, '%Y-%m-%d').strftime('%b %d, %Y').replace(' 0', ' '),\n",
    "    df.iloc[-1, :2]\n",
    ")\n",
    "\n",
    "# Show the nicelly formated date strings\n",
    "[start_date, end_date]"
   ]
  },
  {
   "cell_type": "markdown",
   "metadata": {},
   "source": [
    "We also want to show the total number of cases in the plot, to provide context."
   ]
  },
  {
   "cell_type": "code",
   "execution_count": 5,
   "metadata": {},
   "outputs": [
    {
     "data": {
      "text/plain": [
       "642"
      ]
     },
     "execution_count": 5,
     "metadata": {},
     "output_type": "execute_result"
    }
   ],
   "source": [
    "# Get the number of total cases (last row, last column)\n",
    "total_cases = df.iloc[-1, -1]\n",
    "\n",
    "# Check if there is a problem with the data where the reported total\n",
    "# does not match the sum of the number of cases for each age group\n",
    "if total_cases != df.iloc[-1, 2:-1].sum():\n",
    "    print('WARNING: cases for each age group do NOT add up to the reported total!')\n",
    "\n",
    "total_cases"
   ]
  },
  {
   "cell_type": "markdown",
   "metadata": {},
   "source": [
    "Finally, lets extract the data to actually plot (last row, third to penultimate columns)."
   ]
  },
  {
   "cell_type": "code",
   "execution_count": 6,
   "metadata": {},
   "outputs": [
    {
     "data": {
      "text/plain": [
       "Sep 2018      1\n",
       "Oct 2018     14\n",
       "Nov 2018     28\n",
       "Dec 2018     14\n",
       "Jan 2019     36\n",
       "Feb 2019     71\n",
       "Mar 2019    170\n",
       "Apr 2019    182\n",
       "May 2019     98\n",
       "Jun 2019     22\n",
       "Jul 2019      6\n",
       "Name: 8, dtype: object"
      ]
     },
     "execution_count": 6,
     "metadata": {},
     "output_type": "execute_result"
    }
   ],
   "source": [
    "# Extract the data to plot (last row, third to penultimate columns)\n",
    "# Call it 'd2p' as an abbrevation for 'data to plot'\n",
    "d2p = df.iloc[-1, 2:-1]\n",
    "d2p"
   ]
  },
  {
   "cell_type": "markdown",
   "metadata": {},
   "source": [
    "Create nicely formatted month labels to be used in the bar chart."
   ]
  },
  {
   "cell_type": "code",
   "execution_count": 7,
   "metadata": {},
   "outputs": [
    {
     "data": {
      "text/plain": [
       "['Sep\\n2018',\n",
       " 'Oct',\n",
       " 'Nov',\n",
       " 'Dec',\n",
       " 'Jan\\n2019',\n",
       " 'Feb',\n",
       " 'Mar',\n",
       " 'Apr',\n",
       " 'May',\n",
       " 'Jun',\n",
       " 'Jul\\n2019']"
      ]
     },
     "execution_count": 7,
     "metadata": {},
     "output_type": "execute_result"
    }
   ],
   "source": [
    "# Get the 'raw' month labels\n",
    "month_labels = list(d2p.index)\n",
    "\n",
    "# For the first and last month: show month and year but\n",
    "# replace the space between the month and year with a line break\n",
    "first_label = month_labels[0].replace(' ', '\\n')\n",
    "last_label = month_labels[-1].replace(' ', '\\n')\n",
    "\n",
    "# For the intermediate months: show only the month (not the year), except\n",
    "# for Jan in which case show the month and year with a line break in between\n",
    "middle_labels = list(map(\n",
    "    lambda s: s.replace(' ', '\\n') if s[0:3] == 'Jan' else s[0:3],\n",
    "    month_labels[1:-1]\n",
    "))\n",
    "\n",
    "# Join all the month labels\n",
    "month_labels = [first_label] + middle_labels + [last_label]\n",
    "\n",
    "# Show the nicely formated month labels\n",
    "month_labels"
   ]
  },
  {
   "cell_type": "markdown",
   "metadata": {},
   "source": [
    "## Create Bar Chart\n",
    "\n",
    "We want the bar chart of the NYC New Measles Cases by Month to be clear and to contain the necessary context.\n",
    "\n",
    "To contextualize the bar chart we:\n",
    "* use a title that explictly says what the bar chart represents;\n",
    "* use a sub-title that showns the start and end dates, and the total number of cases during that period;\n",
    "* use a different color for the current month to highlight the fact that it is not a complete month;\n",
    "* add a text annotation at the bottom that provides information about the data and image sources.\n",
    "\n",
    "To make the bar chart as clear as possible we:\n",
    "* explicitly show the number of new cases for each month;\n",
    "* use nicelly format labels for the months;\n",
    "* use a large enough font to make all labels easy to read;\n",
    "* remove unnecessary elements (x-axis ticks, y-axis ticks and values, and plot box)."
   ]
  },
  {
   "cell_type": "code",
   "execution_count": 8,
   "metadata": {},
   "outputs": [
    {
     "data": {
      "image/png": "[encoded data removed]",
      "text/plain": [
       "<Figure size 432x288 with 1 Axes>"
      ]
     },
     "metadata": {
      "needs_background": "light"
     },
     "output_type": "display_data"
    }
   ],
   "source": [
    "# Define font parameters\n",
    "fn = 'Arial' # font name\n",
    "fsb = 12     # font size base\n",
    "\n",
    "# Create figure\n",
    "fig = plt.figure()\n",
    "\n",
    "# Add \"figure title\"\n",
    "fig.suptitle('NYC New Measles Cases by Age', fontname=fn, fontsize=(fsb + 6))\n",
    "\n",
    "# Add space between the \"figure title\" and the plot to create space for the \"plot title\".\n",
    "# If we don't add this space the \"figure title\" and the \"plot title\" will overlap. \n",
    "fig.subplots_adjust(top = 0.75)\n",
    "\n",
    "# Add \"plot title\" which we will be using as the \"figure sub-title\"\n",
    "subtitle = str(total_cases) + ' total cases from ' + start_date + ', to ' + end_date + '\\n'\n",
    "plt.title(subtitle, fontname=fn, fontsize=(fsb + 2))\n",
    "\n",
    "# Define colors to distingusih the current from the previous months,\n",
    "# because the current month is incomplete and therefore is likelly to\n",
    "# get more cases in the next data update.\n",
    "whole_month_color = 'silver'\n",
    "partial_month_color = 'wheat'\n",
    "\n",
    "# Define the bar colors\n",
    "bar_colors = [whole_month_color]*(len(d2p) - 1) + [partial_month_color]\n",
    "\n",
    "# Create the horizontal bar chart\n",
    "ax = d2p.plot.bar(color=bar_colors, width=0.8)\n",
    "\n",
    "# Add legend\n",
    "ax.legend(handles=[\n",
    "    mpatches.Patch(color=whole_month_color, label='Whole month'),\n",
    "    mpatches.Patch(color=partial_month_color, label='Partial month')\n",
    "])\n",
    "\n",
    "# Remove the y-axis ticks and labels/values\n",
    "#ax.get_yaxis().set_ticks([])\n",
    "ax.set_yticks([])\n",
    "\n",
    "# Remove the x-axis ticks\n",
    "ax.xaxis.set_ticks_position('none')\n",
    "\n",
    "# Set the x-axis labels\n",
    "ax.set_xticklabels(month_labels, fontname=fn, fontsize=fsb, rotation=0)\n",
    "\n",
    "# Create the labels on top of the bars to explicitly show the\n",
    "# number of new measles cases in each month\n",
    "for i in ax.patches:\n",
    "    ax.text(\n",
    "        i.get_x() + 0.4,\n",
    "        i.get_height() + 5,\n",
    "        str(i.get_height()), \n",
    "        fontname=fn,\n",
    "        fontsize=fsb,\n",
    "        horizontalalignment='center'\n",
    "    )\n",
    "\n",
    "# Remove the axes box\n",
    "plt.box(False)\n",
    "\n",
    "# Add text about the Data and Image sources\n",
    "sources = 'Data: NYC Health, Image: carlos-afonso.github.io/measles'\n",
    "fig.text(0.5, -0.07, sources, fontname='Lucida Console',\n",
    "         fontsize=(fsb - 3), horizontalalignment='center')\n",
    "\n",
    "# Show figure\n",
    "plt.show()"
   ]
  },
  {
   "cell_type": "markdown",
   "metadata": {},
   "source": [
    "## Save Bar Chart"
   ]
  },
  {
   "cell_type": "code",
   "execution_count": 9,
   "metadata": {},
   "outputs": [],
   "source": [
    "# Set image file path/name (without file extension)\n",
    "img_file = '../images/nyc-new-measles-cases-by-month-bar-chart-py'\n",
    "\n",
    "# Save as PNG image\n",
    "fig.savefig(img_file + '.png', bbox_inches='tight', dpi=200)\n",
    "\n",
    "# Save as SVG image\n",
    "fig.savefig(img_file + '.svg', bbox_inches='tight')"
   ]
  },
  {
   "cell_type": "markdown",
   "metadata": {},
   "source": [
    "## Export Notebook as HTML"
   ]
  },
  {
   "cell_type": "code",
   "execution_count": 10,
   "metadata": {},
   "outputs": [
    {
     "data": {
      "text/plain": [
       "0"
      ]
     },
     "execution_count": 10,
     "metadata": {},
     "output_type": "execute_result"
    }
   ],
   "source": [
    "# Export this notebook as a static HTML page\n",
    "os.system('jupyter nbconvert --to html nyc-new-measles-cases-by-month.ipynb')"
   ]
  }
 ],
 "metadata": {
  "kernelspec": {
   "display_name": "Python 3",
   "language": "python",
   "name": "python3"
  },
  "language_info": {
   "codemirror_mode": {
    "name": "ipython",
    "version": 3
   },
   "file_extension": ".py",
   "mimetype": "text/x-python",
   "name": "python",
   "nbconvert_exporter": "python",
   "pygments_lexer": "ipython3",
   "version": "3.7.3"
  }
 },
 "nbformat": 4,
 "nbformat_minor": 4
}
