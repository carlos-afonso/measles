{
 "cells": [
  {
   "cell_type": "markdown",
   "metadata": {},
   "source": [
    "# NYC Measles Cases by Age (2018-2019)"
   ]
  },
  {
   "cell_type": "markdown",
   "metadata": {},
   "source": [
    "- This Jupyter/Python notebook creates a bar chart of the 2018-2019 NYC Measles Cases by Age and saves it as a PNG image.\n",
    "- This notebook is part of the \"measles\" GitHub project: https://github.com/carlos-afonso/measles\n",
    "- Author: Carlos Afonso: https://carlos-afonso.github.io\n",
    "- Date: June 5, 2019"
   ]
  },
  {
   "cell_type": "code",
   "execution_count": 1,
   "metadata": {},
   "outputs": [],
   "source": [
    "from datetime import datetime\n",
    "import matplotlib.pyplot as plt\n",
    "import pandas as pd"
   ]
  },
  {
   "cell_type": "code",
   "execution_count": 2,
   "metadata": {},
   "outputs": [
    {
     "data": {
      "text/html": [
       "<div>\n",
       "<style scoped>\n",
       "    .dataframe tbody tr th:only-of-type {\n",
       "        vertical-align: middle;\n",
       "    }\n",
       "\n",
       "    .dataframe tbody tr th {\n",
       "        vertical-align: top;\n",
       "    }\n",
       "\n",
       "    .dataframe thead th {\n",
       "        text-align: right;\n",
       "    }\n",
       "</style>\n",
       "<table border=\"1\" class=\"dataframe\">\n",
       "  <thead>\n",
       "    <tr style=\"text-align: right;\">\n",
       "      <th></th>\n",
       "      <th>Start Date</th>\n",
       "      <th>End Date</th>\n",
       "      <th>Under 1 year</th>\n",
       "      <th>1 to 4 years</th>\n",
       "      <th>5 to 17 years</th>\n",
       "      <th>18 years and over</th>\n",
       "      <th>Total</th>\n",
       "    </tr>\n",
       "  </thead>\n",
       "  <tbody>\n",
       "    <tr>\n",
       "      <th>0</th>\n",
       "      <td>2018-09-01</td>\n",
       "      <td>2019-05-20</td>\n",
       "      <td>83</td>\n",
       "      <td>227</td>\n",
       "      <td>113</td>\n",
       "      <td>100</td>\n",
       "      <td>523</td>\n",
       "    </tr>\n",
       "    <tr>\n",
       "      <th>1</th>\n",
       "      <td>2018-09-01</td>\n",
       "      <td>2019-05-24</td>\n",
       "      <td>85</td>\n",
       "      <td>229</td>\n",
       "      <td>115</td>\n",
       "      <td>106</td>\n",
       "      <td>535</td>\n",
       "    </tr>\n",
       "    <tr>\n",
       "      <th>2</th>\n",
       "      <td>2018-09-01</td>\n",
       "      <td>2019-05-29</td>\n",
       "      <td>87</td>\n",
       "      <td>237</td>\n",
       "      <td>119</td>\n",
       "      <td>107</td>\n",
       "      <td>550</td>\n",
       "    </tr>\n",
       "    <tr>\n",
       "      <th>3</th>\n",
       "      <td>2018-09-01</td>\n",
       "      <td>2019-06-03</td>\n",
       "      <td>89</td>\n",
       "      <td>245</td>\n",
       "      <td>120</td>\n",
       "      <td>112</td>\n",
       "      <td>566</td>\n",
       "    </tr>\n",
       "  </tbody>\n",
       "</table>\n",
       "</div>"
      ],
      "text/plain": [
       "   Start Date    End Date  Under 1 year  1 to 4 years  5 to 17 years  \\\n",
       "0  2018-09-01  2019-05-20            83           227            113   \n",
       "1  2018-09-01  2019-05-24            85           229            115   \n",
       "2  2018-09-01  2019-05-29            87           237            119   \n",
       "3  2018-09-01  2019-06-03            89           245            120   \n",
       "\n",
       "   18 years and over  Total  \n",
       "0                100    523  \n",
       "1                106    535  \n",
       "2                107    550  \n",
       "3                112    566  "
      ]
     },
     "execution_count": 2,
     "metadata": {},
     "output_type": "execute_result"
    }
   ],
   "source": [
    "# Import the data as a dataframe\n",
    "data_file = '../data/nyc_health_measles_cases_by_age.csv'\n",
    "df = pd.read_csv(data_file)\n",
    "df"
   ]
  },
  {
   "cell_type": "code",
   "execution_count": 3,
   "metadata": {},
   "outputs": [
    {
     "data": {
      "text/plain": [
       "'Sep 1, 2018'"
      ]
     },
     "execution_count": 3,
     "metadata": {},
     "output_type": "execute_result"
    }
   ],
   "source": [
    "# Get the start date and transform it into a nicely formatted string\n",
    "start_date_obj = datetime.strptime(df.values[-1, 0], '%Y-%m-%d').date()\n",
    "start_date_str = start_date_obj.strftime('%b %d, %Y').replace(' 0', ' ')\n",
    "start_date_str"
   ]
  },
  {
   "cell_type": "code",
   "execution_count": 4,
   "metadata": {},
   "outputs": [
    {
     "data": {
      "text/plain": [
       "'Jun 3, 2019'"
      ]
     },
     "execution_count": 4,
     "metadata": {},
     "output_type": "execute_result"
    }
   ],
   "source": [
    "# Get the end date and transform it into a nicely formatted string\n",
    "end_date_obj = datetime.strptime(df.values[-1, 1], '%Y-%m-%d').date()\n",
    "end_date_str = end_date_obj.strftime('%b %d, %Y').replace(' 0', ' ')\n",
    "end_date_str"
   ]
  },
  {
   "cell_type": "code",
   "execution_count": 5,
   "metadata": {},
   "outputs": [
    {
     "data": {
      "text/plain": [
       "[89, 245, 120, 112]"
      ]
     },
     "execution_count": 5,
     "metadata": {},
     "output_type": "execute_result"
    }
   ],
   "source": [
    "# Get the values to plot (we want the lastest values, which are in the last row)\n",
    "vals = list(df.values[-1, 2:-1])\n",
    "vals"
   ]
  },
  {
   "cell_type": "code",
   "execution_count": 6,
   "metadata": {},
   "outputs": [
    {
     "data": {
      "text/plain": [
       "['Under 1 year', '1 to 4 years', '5 to 17 years', '18 years and over']"
      ]
     },
     "execution_count": 6,
     "metadata": {},
     "output_type": "execute_result"
    }
   ],
   "source": [
    "# Get the labesl corresponding to the values above\n",
    "labels = list(df.columns[2:-1])\n",
    "labels"
   ]
  },
  {
   "cell_type": "code",
   "execution_count": 7,
   "metadata": {},
   "outputs": [
    {
     "data": {
      "text/plain": [
       "566"
      ]
     },
     "execution_count": 7,
     "metadata": {},
     "output_type": "execute_result"
    }
   ],
   "source": [
    "# Get the number of total cases\n",
    "total_cases = int(df.iloc[-1, -1])\n",
    "total_cases"
   ]
  },
  {
   "cell_type": "code",
   "execution_count": 8,
   "metadata": {},
   "outputs": [
    {
     "data": {
      "image/png": "[encoded data removed]",
      "text/plain": [
       "<Figure size 432x288 with 1 Axes>"
      ]
     },
     "metadata": {},
     "output_type": "display_data"
    }
   ],
   "source": [
    "fn = 'Arial' # font name\n",
    "fs = 14      # font size\n",
    "\n",
    "fig = plt.figure()\n",
    "fig.suptitle('NYC Measles Cases by Age', fontname = fn, fontsize = fs + 6)\n",
    "\n",
    "ax = fig.add_subplot(111)\n",
    "fig.subplots_adjust(top = 0.75)\n",
    "plt.title(\n",
    "    str(total_cases) + ' total cases from ' + start_date_str + ', to ' + end_date_str + '\\n', \n",
    "    fontname = fn, \n",
    "    fontsize = fs + 2\n",
    ")\n",
    "\n",
    "y_pos = range(len(vals))\n",
    "\n",
    "# Create the bar chart\n",
    "ax.barh(y_pos, vals, align = 'center', color = 'silver')\n",
    "\n",
    "# Remove the x ticks (and labels)\n",
    "ax.set_xticks([])\n",
    "\n",
    "# Remove the y ticks\n",
    "ax.yaxis.set_ticks_position('none')\n",
    "\n",
    "# Set the y ticks and labels\n",
    "ax.set_yticks(y_pos)\n",
    "ax.set_yticklabels(labels, fontname = fn, fontsize = fs)\n",
    "\n",
    "# Invert the y axis\n",
    "ax.invert_yaxis()\n",
    "\n",
    "# Despine\n",
    "ax.spines['right'].set_visible(False)\n",
    "ax.spines['top'].set_visible(False)\n",
    "ax.spines['left'].set_visible(False)\n",
    "ax.spines['bottom'].set_visible(False)\n",
    "\n",
    "# Create the labes in front of the bars showing the number and percentage of cases\n",
    "for i in ax.patches:\n",
    "    ax.text(\n",
    "        i.get_width() + 5, \n",
    "        i.get_y() + 0.45, \n",
    "        str(i.get_width()) + \" (\" + str(round(100 * int(i.get_width()) / total_cases)) + \"%)\", \n",
    "        fontname = fn, \n",
    "        fontsize = fs\n",
    "    )\n",
    "\n",
    "# We don't need to label the x-axis, so we can use xlabel for an annotation about the Data/Image sources\n",
    "plt.xlabel(\n",
    "    '\\nData: NYC Health, Image: carlos-afonso.github.io/measles', \n",
    "    fontname = 'Lucida Console', \n",
    "    fontsize = fs - 2\n",
    ")\n",
    "\n",
    "plt.show()"
   ]
  },
  {
   "cell_type": "code",
   "execution_count": 9,
   "metadata": {},
   "outputs": [],
   "source": [
    "#fig.savefig('../images/nyc_measles_cases_by_age_barchart_py.png', bbox_inches = 'tight', dpi = 150)\n",
    "fig.savefig('../images/nyc_measles_cases_by_age_barchart_py.svg', bbox_inches = 'tight')"
   ]
  }
 ],
 "metadata": {
  "kernelspec": {
   "display_name": "Python 3",
   "language": "python",
   "name": "python3"
  },
  "language_info": {
   "codemirror_mode": {
    "name": "ipython",
    "version": 3
   },
   "file_extension": ".py",
   "mimetype": "text/x-python",
   "name": "python",
   "nbconvert_exporter": "python",
   "pygments_lexer": "ipython3",
   "version": "3.6.5"
  }
 },
 "nbformat": 4,
 "nbformat_minor": 2
}
