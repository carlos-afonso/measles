{
 "cells": [
  {
   "cell_type": "markdown",
   "metadata": {},
   "source": [
    "# NYC New Measles Cases by Month (2018-2019)"
   ]
  },
  {
   "cell_type": "markdown",
   "metadata": {},
   "source": [
    "- This Jupyter/Python notebook creates a bar chart of the 2018-2019 NYC New Measles Cases by Month and saves it as a PNG image.\n",
    "- This notebook is part of the \"measles\" GitHub project: https://github.com/carlos-afonso/measles\n",
    "- Author: Carlos Afonso: https://carlos-afonso.github.io\n",
    "- Date: May 25, 2019"
   ]
  },
  {
   "cell_type": "code",
   "execution_count": 1,
   "metadata": {},
   "outputs": [],
   "source": [
    "from datetime import datetime\n",
    "import matplotlib.pyplot as plt\n",
    "import pandas as pd"
   ]
  },
  {
   "cell_type": "code",
   "execution_count": 2,
   "metadata": {},
   "outputs": [
    {
     "data": {
      "text/html": [
       "<div>\n",
       "<style scoped>\n",
       "    .dataframe tbody tr th:only-of-type {\n",
       "        vertical-align: middle;\n",
       "    }\n",
       "\n",
       "    .dataframe tbody tr th {\n",
       "        vertical-align: top;\n",
       "    }\n",
       "\n",
       "    .dataframe thead th {\n",
       "        text-align: right;\n",
       "    }\n",
       "</style>\n",
       "<table border=\"1\" class=\"dataframe\">\n",
       "  <thead>\n",
       "    <tr style=\"text-align: right;\">\n",
       "      <th></th>\n",
       "      <th>Start Date</th>\n",
       "      <th>End Date</th>\n",
       "      <th>Sep 2018</th>\n",
       "      <th>Oct 2018</th>\n",
       "      <th>Nov 2018</th>\n",
       "      <th>Dec 2018</th>\n",
       "      <th>Jan 2019</th>\n",
       "      <th>Feb 2019</th>\n",
       "      <th>Mar 2019</th>\n",
       "      <th>Apr 2019</th>\n",
       "      <th>May 2019</th>\n",
       "      <th>Total</th>\n",
       "    </tr>\n",
       "  </thead>\n",
       "  <tbody>\n",
       "    <tr>\n",
       "      <th>0</th>\n",
       "      <td>2018-09-01</td>\n",
       "      <td>2019-05-20</td>\n",
       "      <td>1</td>\n",
       "      <td>14</td>\n",
       "      <td>28</td>\n",
       "      <td>14</td>\n",
       "      <td>34</td>\n",
       "      <td>68</td>\n",
       "      <td>150</td>\n",
       "      <td>169</td>\n",
       "      <td>45</td>\n",
       "      <td>523</td>\n",
       "    </tr>\n",
       "    <tr>\n",
       "      <th>1</th>\n",
       "      <td>2018-09-01</td>\n",
       "      <td>2019-05-24</td>\n",
       "      <td>1</td>\n",
       "      <td>14</td>\n",
       "      <td>28</td>\n",
       "      <td>14</td>\n",
       "      <td>34</td>\n",
       "      <td>68</td>\n",
       "      <td>151</td>\n",
       "      <td>171</td>\n",
       "      <td>54</td>\n",
       "      <td>535</td>\n",
       "    </tr>\n",
       "  </tbody>\n",
       "</table>\n",
       "</div>"
      ],
      "text/plain": [
       "   Start Date    End Date  Sep 2018  Oct 2018  Nov 2018  Dec 2018  Jan 2019  \\\n",
       "0  2018-09-01  2019-05-20         1        14        28        14        34   \n",
       "1  2018-09-01  2019-05-24         1        14        28        14        34   \n",
       "\n",
       "   Feb 2019  Mar 2019  Apr 2019  May 2019  Total  \n",
       "0        68       150       169        45    523  \n",
       "1        68       151       171        54    535  "
      ]
     },
     "execution_count": 2,
     "metadata": {},
     "output_type": "execute_result"
    }
   ],
   "source": [
    "# Import the data as a dataframe\n",
    "data_file = '../data/nyc_health_new_measles_cases_by_month.csv'\n",
    "df = pd.read_csv(data_file)\n",
    "df"
   ]
  },
  {
   "cell_type": "code",
   "execution_count": 3,
   "metadata": {},
   "outputs": [
    {
     "data": {
      "text/plain": [
       "'Sep 1, 2018'"
      ]
     },
     "execution_count": 3,
     "metadata": {},
     "output_type": "execute_result"
    }
   ],
   "source": [
    "# Get the start date and transform it into a nicely formatted string\n",
    "start_date_obj = datetime.strptime(df.values[-1, 0], '%Y-%m-%d').date()\n",
    "start_date_str = start_date_obj.strftime('%b %d, %Y').replace(' 0', ' ')\n",
    "start_date_str"
   ]
  },
  {
   "cell_type": "code",
   "execution_count": 4,
   "metadata": {},
   "outputs": [
    {
     "data": {
      "text/plain": [
       "'May 24, 2019'"
      ]
     },
     "execution_count": 4,
     "metadata": {},
     "output_type": "execute_result"
    }
   ],
   "source": [
    "# Get the end date and transform it into a nicely formatted string\n",
    "end_date_obj = datetime.strptime(df.values[-1, 1], '%Y-%m-%d').date()\n",
    "end_date_str = end_date_obj.strftime('%b %d, %Y').replace(' 0', ' ')\n",
    "end_date_str"
   ]
  },
  {
   "cell_type": "code",
   "execution_count": 5,
   "metadata": {},
   "outputs": [
    {
     "data": {
      "text/plain": [
       "[1, 14, 28, 14, 34, 68, 151, 171, 54]"
      ]
     },
     "execution_count": 5,
     "metadata": {},
     "output_type": "execute_result"
    }
   ],
   "source": [
    "# Get the values to plot (we want the lastest values, which are in the last row)\n",
    "vals = list(df.values[-1, 2:-1])\n",
    "vals"
   ]
  },
  {
   "cell_type": "code",
   "execution_count": 6,
   "metadata": {},
   "outputs": [
    {
     "data": {
      "text/plain": [
       "['Sep\\n2018',\n",
       " 'Oct',\n",
       " 'Nov',\n",
       " 'Dec\\n2018',\n",
       " 'Jan\\n2019',\n",
       " 'Feb',\n",
       " 'Mar',\n",
       " 'Apr',\n",
       " 'May\\n2019']"
      ]
     },
     "execution_count": 6,
     "metadata": {},
     "output_type": "execute_result"
    }
   ],
   "source": [
    "# Get the labesl corresponding to the values above\n",
    "labels = list(df.columns[2:-1])\n",
    "\n",
    "first_label = labels[0].replace(' ', '\\n')\n",
    "last_label = labels[-1].replace(' ', '\\n')\n",
    "\n",
    "def f(s):\n",
    "    if (s[0:3] == 'Jan') | (s[0:3] == 'Dec'): \n",
    "        return s.replace(' ', '\\n')\n",
    "    else:\n",
    "        return s[0:3]\n",
    "    \n",
    "middle_labels = list(map(f, labels[1:-1]))\n",
    "\n",
    "labels = [first_label] + middle_labels + [last_label]\n",
    "\n",
    "labels"
   ]
  },
  {
   "cell_type": "code",
   "execution_count": 7,
   "metadata": {},
   "outputs": [
    {
     "data": {
      "text/plain": [
       "535"
      ]
     },
     "execution_count": 7,
     "metadata": {},
     "output_type": "execute_result"
    }
   ],
   "source": [
    "# Get the number of total cases\n",
    "total_cases = int(df.iloc[-1, -1])\n",
    "total_cases"
   ]
  },
  {
   "cell_type": "code",
   "execution_count": 21,
   "metadata": {},
   "outputs": [
    {
     "data": {
      "image/png": "[encoded data removed]",
      "text/plain": [
       "<Figure size 432x288 with 1 Axes>"
      ]
     },
     "metadata": {},
     "output_type": "display_data"
    }
   ],
   "source": [
    "fn = 'Arial' # font name\n",
    "fs = 11      # font size\n",
    "\n",
    "fig = plt.figure()\n",
    "fig.suptitle(\n",
    "    'NYC New Measles Cases by Month', \n",
    "    fontname = fn, \n",
    "    fontsize = fs + 6\n",
    ")\n",
    "\n",
    "ax = fig.add_subplot(111)\n",
    "fig.subplots_adjust(top = 0.75)\n",
    "plt.title(\n",
    "    str(total_cases) + ' total cases from ' + start_date_str + ', to ' + end_date_str + '\\n', \n",
    "    fontname = fn, \n",
    "    fontsize = fs + 2\n",
    ")\n",
    "\n",
    "x_pos = range(len(vals))\n",
    "\n",
    "# Create the bar chart\n",
    "ax.bar(x_pos[0:-1], vals[0:-1], align = 'center', color = 'silver', label = 'Whole month')\n",
    "ax.bar(x_pos[-1:], vals[-1:], align = 'center', color = 'wheat', label = 'Partial month')\n",
    "\n",
    "ax.legend()\n",
    "\n",
    "# Remove the y ticks (and labels)\n",
    "ax.set_yticks([])\n",
    "\n",
    "# Remove the x ticks\n",
    "ax.xaxis.set_ticks_position('none')\n",
    "\n",
    "# Set the x labels\n",
    "ax.set_xticks(x_pos)\n",
    "ax.set_xticklabels(labels, fontname = fn, fontsize = fs)\n",
    "\n",
    "# Despine\n",
    "ax.spines['right'].set_visible(False)\n",
    "ax.spines['top'].set_visible(False)\n",
    "ax.spines['left'].set_visible(False)\n",
    "ax.spines['bottom'].set_visible(False)\n",
    "\n",
    "# Create the labels on top of the bars showing the number and percentage of cases\n",
    "for i in ax.patches:\n",
    "    ax.text(\n",
    "        i.get_x() + 0.4, \n",
    "        i.get_height() + 5, \n",
    "        str(i.get_height()), \n",
    "        fontname = fn, \n",
    "        fontsize = fs + 1, \n",
    "        horizontalalignment = 'center'\n",
    "    )\n",
    "\n",
    "# We don't need to an x-axis label, so we can use xlabel for an annotation about the Data/Image sources\n",
    "plt.xlabel(\n",
    "    '\\nData: NYC Health, Image: carlos-afonso.github.io/measles', \n",
    "    fontname = 'Lucida Console', \n",
    "    fontsize = fs - 2\n",
    ")\n",
    "\n",
    "plt.show()"
   ]
  },
  {
   "cell_type": "code",
   "execution_count": 22,
   "metadata": {},
   "outputs": [],
   "source": [
    "#fig.savefig('../images/nyc_new_measles_cases_by_month_barchart_py.png', bbox_inches = 'tight', dpi = 150)\n",
    "fig.savefig('../images/nyc_new_measles_cases_by_month_barchart_py.svg', bbox_inches = 'tight')"
   ]
  }
 ],
 "metadata": {
  "kernelspec": {
   "display_name": "Python 3",
   "language": "python",
   "name": "python3"
  },
  "language_info": {
   "codemirror_mode": {
    "name": "ipython",
    "version": 3
   },
   "file_extension": ".py",
   "mimetype": "text/x-python",
   "name": "python",
   "nbconvert_exporter": "python",
   "pygments_lexer": "ipython3",
   "version": "3.6.5"
  }
 },
 "nbformat": 4,
 "nbformat_minor": 2
}
