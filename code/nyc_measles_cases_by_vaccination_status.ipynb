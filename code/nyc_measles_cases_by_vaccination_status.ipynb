{
 "cells": [
  {
   "cell_type": "markdown",
   "metadata": {},
   "source": [
    "# NYC Measles Cases by Vaccination Status"
   ]
  },
  {
   "cell_type": "markdown",
   "metadata": {},
   "source": [
    "- This Jupyter/Python notebook creates a bar chart of the 2018-2019 NYC Measles Cases by Vaccination Status and saves it as a PNG image.\n",
    "- This notebook is part of the \"measles\" GitHub project: https://github.com/carlos-afonso/measles\n",
    "- Author: Carlos Afonso: https://carlos-afonso.github.io\n",
    "- Date: July 23, 2019"
   ]
  },
  {
   "cell_type": "code",
   "execution_count": 1,
   "metadata": {},
   "outputs": [],
   "source": [
    "from datetime import datetime\n",
    "import matplotlib.pyplot as plt\n",
    "import pandas as pd"
   ]
  },
  {
   "cell_type": "code",
   "execution_count": 2,
   "metadata": {},
   "outputs": [
    {
     "data": {
      "text/html": [
       "<div>\n",
       "<style scoped>\n",
       "    .dataframe tbody tr th:only-of-type {\n",
       "        vertical-align: middle;\n",
       "    }\n",
       "\n",
       "    .dataframe tbody tr th {\n",
       "        vertical-align: top;\n",
       "    }\n",
       "\n",
       "    .dataframe thead th {\n",
       "        text-align: right;\n",
       "    }\n",
       "</style>\n",
       "<table border=\"1\" class=\"dataframe\">\n",
       "  <thead>\n",
       "    <tr style=\"text-align: right;\">\n",
       "      <th></th>\n",
       "      <th>Start Date</th>\n",
       "      <th>End Date</th>\n",
       "      <th>Unvaccinated</th>\n",
       "      <th>One Prior MMR</th>\n",
       "      <th>Two Prior MMR</th>\n",
       "      <th>Unknown MMR</th>\n",
       "      <th>Total</th>\n",
       "    </tr>\n",
       "  </thead>\n",
       "  <tbody>\n",
       "    <tr>\n",
       "      <th>0</th>\n",
       "      <td>2018-09-01</td>\n",
       "      <td>2019-05-13</td>\n",
       "      <td>377</td>\n",
       "      <td>32</td>\n",
       "      <td>22</td>\n",
       "      <td>67</td>\n",
       "      <td>498</td>\n",
       "    </tr>\n",
       "    <tr>\n",
       "      <th>1</th>\n",
       "      <td>2018-09-01</td>\n",
       "      <td>2019-05-20</td>\n",
       "      <td>391</td>\n",
       "      <td>34</td>\n",
       "      <td>22</td>\n",
       "      <td>76</td>\n",
       "      <td>523</td>\n",
       "    </tr>\n",
       "    <tr>\n",
       "      <th>2</th>\n",
       "      <td>2018-09-01</td>\n",
       "      <td>2019-05-24</td>\n",
       "      <td>396</td>\n",
       "      <td>36</td>\n",
       "      <td>24</td>\n",
       "      <td>79</td>\n",
       "      <td>535</td>\n",
       "    </tr>\n",
       "    <tr>\n",
       "      <th>3</th>\n",
       "      <td>2018-09-01</td>\n",
       "      <td>2019-05-29</td>\n",
       "      <td>405</td>\n",
       "      <td>39</td>\n",
       "      <td>27</td>\n",
       "      <td>79</td>\n",
       "      <td>550</td>\n",
       "    </tr>\n",
       "    <tr>\n",
       "      <th>4</th>\n",
       "      <td>2018-09-01</td>\n",
       "      <td>2019-06-03</td>\n",
       "      <td>415</td>\n",
       "      <td>41</td>\n",
       "      <td>27</td>\n",
       "      <td>83</td>\n",
       "      <td>566</td>\n",
       "    </tr>\n",
       "    <tr>\n",
       "      <th>5</th>\n",
       "      <td>2018-09-01</td>\n",
       "      <td>2019-06-10</td>\n",
       "      <td>429</td>\n",
       "      <td>42</td>\n",
       "      <td>27</td>\n",
       "      <td>90</td>\n",
       "      <td>588</td>\n",
       "    </tr>\n",
       "    <tr>\n",
       "      <th>6</th>\n",
       "      <td>2018-09-01</td>\n",
       "      <td>2019-06-24</td>\n",
       "      <td>443</td>\n",
       "      <td>44</td>\n",
       "      <td>27</td>\n",
       "      <td>95</td>\n",
       "      <td>609</td>\n",
       "    </tr>\n",
       "    <tr>\n",
       "      <th>7</th>\n",
       "      <td>2018-09-01</td>\n",
       "      <td>2019-07-15</td>\n",
       "      <td>453</td>\n",
       "      <td>45</td>\n",
       "      <td>28</td>\n",
       "      <td>97</td>\n",
       "      <td>623</td>\n",
       "    </tr>\n",
       "    <tr>\n",
       "      <th>8</th>\n",
       "      <td>2018-09-01</td>\n",
       "      <td>2019-07-22</td>\n",
       "      <td>461</td>\n",
       "      <td>46</td>\n",
       "      <td>31</td>\n",
       "      <td>99</td>\n",
       "      <td>637</td>\n",
       "    </tr>\n",
       "  </tbody>\n",
       "</table>\n",
       "</div>"
      ],
      "text/plain": [
       "   Start Date    End Date  Unvaccinated  One Prior MMR  Two Prior MMR  \\\n",
       "0  2018-09-01  2019-05-13           377             32             22   \n",
       "1  2018-09-01  2019-05-20           391             34             22   \n",
       "2  2018-09-01  2019-05-24           396             36             24   \n",
       "3  2018-09-01  2019-05-29           405             39             27   \n",
       "4  2018-09-01  2019-06-03           415             41             27   \n",
       "5  2018-09-01  2019-06-10           429             42             27   \n",
       "6  2018-09-01  2019-06-24           443             44             27   \n",
       "7  2018-09-01  2019-07-15           453             45             28   \n",
       "8  2018-09-01  2019-07-22           461             46             31   \n",
       "\n",
       "   Unknown MMR  Total  \n",
       "0           67    498  \n",
       "1           76    523  \n",
       "2           79    535  \n",
       "3           79    550  \n",
       "4           83    566  \n",
       "5           90    588  \n",
       "6           95    609  \n",
       "7           97    623  \n",
       "8           99    637  "
      ]
     },
     "execution_count": 2,
     "metadata": {},
     "output_type": "execute_result"
    }
   ],
   "source": [
    "# Import the data as a dataframe\n",
    "data_file = '../data/nyc_health_measles_cases_by_vaccination_status.csv'\n",
    "df = pd.read_csv(data_file)\n",
    "df"
   ]
  },
  {
   "cell_type": "code",
   "execution_count": 3,
   "metadata": {},
   "outputs": [
    {
     "data": {
      "text/plain": [
       "'Sep 1, 2018'"
      ]
     },
     "execution_count": 3,
     "metadata": {},
     "output_type": "execute_result"
    }
   ],
   "source": [
    "# Get the start date and transform it into a nicely formatted string\n",
    "start_date_obj = datetime.strptime(df.values[-1, 0], '%Y-%m-%d').date()\n",
    "start_date_str = start_date_obj.strftime('%b %d, %Y').replace(' 0', ' ')\n",
    "start_date_str"
   ]
  },
  {
   "cell_type": "code",
   "execution_count": 4,
   "metadata": {},
   "outputs": [
    {
     "data": {
      "text/plain": [
       "'Jul 22, 2019'"
      ]
     },
     "execution_count": 4,
     "metadata": {},
     "output_type": "execute_result"
    }
   ],
   "source": [
    "# Get the end date and transform it into a nicely formatted string\n",
    "end_date_obj = datetime.strptime(df.values[-1, 1], '%Y-%m-%d').date()\n",
    "end_date_str = end_date_obj.strftime('%b %d, %Y').replace(' 0', ' ')\n",
    "end_date_str"
   ]
  },
  {
   "cell_type": "code",
   "execution_count": 5,
   "metadata": {},
   "outputs": [
    {
     "data": {
      "text/plain": [
       "[461, 46, 31, 99]"
      ]
     },
     "execution_count": 5,
     "metadata": {},
     "output_type": "execute_result"
    }
   ],
   "source": [
    "# Get the values to plot (we want the lastest values, which are in the last row)\n",
    "vals = list(df.values[-1, 2:-1])\n",
    "vals"
   ]
  },
  {
   "cell_type": "code",
   "execution_count": 6,
   "metadata": {},
   "outputs": [
    {
     "data": {
      "text/plain": [
       "['Unvaccinated', 'One Prior MMR', 'Two Prior MMR', 'Unknown MMR']"
      ]
     },
     "execution_count": 6,
     "metadata": {},
     "output_type": "execute_result"
    }
   ],
   "source": [
    "# Get the labesl corresponding to the values above\n",
    "labels = list(df.columns[2:-1])\n",
    "labels"
   ]
  },
  {
   "cell_type": "code",
   "execution_count": 7,
   "metadata": {},
   "outputs": [
    {
     "data": {
      "text/plain": [
       "637"
      ]
     },
     "execution_count": 7,
     "metadata": {},
     "output_type": "execute_result"
    }
   ],
   "source": [
    "# Get the number of total cases\n",
    "total_cases = int(df.iloc[-1, -1])\n",
    "total_cases"
   ]
  },
  {
   "cell_type": "code",
   "execution_count": 8,
   "metadata": {},
   "outputs": [
    {
     "data": {
      "image/png": "[encoded data removed]",
      "text/plain": [
       "<Figure size 432x288 with 1 Axes>"
      ]
     },
     "metadata": {},
     "output_type": "display_data"
    }
   ],
   "source": [
    "fn = 'Arial' # font name\n",
    "fs = 14      # font size\n",
    "\n",
    "fig = plt.figure()\n",
    "fig.suptitle('NYC Measles Cases by Vaccination Status', fontname = fn, fontsize = fs + 6)\n",
    "\n",
    "ax = fig.add_subplot(111)\n",
    "fig.subplots_adjust(top = 0.75)\n",
    "plt.title(\n",
    "    str(total_cases) + ' total cases from ' + start_date_str + ', to ' + end_date_str + '\\n', \n",
    "    fontname = fn, \n",
    "    fontsize = fs + 2\n",
    ")\n",
    "\n",
    "y_pos = range(len(vals))\n",
    "\n",
    "# Create the bar chart\n",
    "ax.barh(y_pos, vals, align = 'center', color = 'silver')\n",
    "\n",
    "# Remove the x ticks (and labels)\n",
    "ax.set_xticks([])\n",
    "\n",
    "# Remove the y ticks\n",
    "ax.yaxis.set_ticks_position('none')\n",
    "\n",
    "# Set the y ticks and labels\n",
    "ax.set_yticks(y_pos)\n",
    "ax.set_yticklabels(labels, fontname = fn, fontsize = fs)\n",
    "\n",
    "# Invert the y axis\n",
    "ax.invert_yaxis()\n",
    "\n",
    "# Despine\n",
    "ax.spines['right'].set_visible(False)\n",
    "ax.spines['top'].set_visible(False)\n",
    "ax.spines['left'].set_visible(False)\n",
    "ax.spines['bottom'].set_visible(False)\n",
    "\n",
    "# Create the labes in front of the bars showing the number and percentage of cases\n",
    "for i in ax.patches:\n",
    "    ax.text(\n",
    "        i.get_width() + 5, \n",
    "        i.get_y() + 0.4, \n",
    "        str(i.get_width()) + \" (\" + str(round(100 * int(i.get_width()) / total_cases)) + \"%)\", \n",
    "        fontname = fn, \n",
    "        fontsize = fs, \n",
    "        verticalalignment = 'center'\n",
    "    )\n",
    "\n",
    "# We don't need to label the x-axis, so we can use xlabel for an annotation about the Data/Image sources\n",
    "plt.xlabel(\n",
    "    '\\nData: NYC Health, Image: carlos-afonso.github.io/measles', \n",
    "    fontname = 'Lucida Console', \n",
    "    fontsize = fs - 2\n",
    ")\n",
    "\n",
    "plt.show()"
   ]
  },
  {
   "cell_type": "code",
   "execution_count": 9,
   "metadata": {},
   "outputs": [],
   "source": [
    "#fig.savefig('../images/nyc_measles_cases_by_vaccination_status_barchart_py.png', bbox_inches = 'tight', dpi = 150)\n",
    "fig.savefig('../images/nyc_measles_cases_by_vaccination_status_barchart_py.svg', bbox_inches = 'tight')"
   ]
  }
 ],
 "metadata": {
  "kernelspec": {
   "display_name": "Python 3",
   "language": "python",
   "name": "python3"
  },
  "language_info": {
   "codemirror_mode": {
    "name": "ipython",
    "version": 3
   },
   "file_extension": ".py",
   "mimetype": "text/x-python",
   "name": "python",
   "nbconvert_exporter": "python",
   "pygments_lexer": "ipython3",
   "version": "3.6.5"
  }
 },
 "nbformat": 4,
 "nbformat_minor": 2
}
