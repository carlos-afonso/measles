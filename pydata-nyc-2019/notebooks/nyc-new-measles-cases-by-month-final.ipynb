{
 "cells": [
  {
   "cell_type": "markdown",
   "metadata": {},
   "source": [
    "# NYC new measles cases by month (2018 - 2019)\n",
    "\n",
    "* This Jupyter/Python notebook creates a bar chart of the 2018-2019 NYC measles outbreak new cases by month.\n",
    "* This notebook is part of the [Visualizing the 2019 Measles Outbreak](https://carlos-afonso.github.io/measles/) open-source GitHub project.\n",
    "* [Carlos Afonso](https://www.linkedin.com/in/carlos-afonso-w/), November 6, 2019."
   ]
  },
  {
   "cell_type": "markdown",
   "metadata": {},
   "source": [
    "## Import libraries"
   ]
  },
  {
   "cell_type": "code",
   "execution_count": 1,
   "metadata": {},
   "outputs": [],
   "source": [
    "from datetime import datetime\n",
    "import matplotlib.patches as mpatches\n",
    "import matplotlib.pyplot as plt\n",
    "import os\n",
    "import pandas as pd"
   ]
  },
  {
   "cell_type": "markdown",
   "metadata": {},
   "source": [
    "## Read and show data\n",
    "\n",
    "The data was manually collected from the source ([NYC Health Measles webpage](https://www1.nyc.gov/site/doh/health/health-topics/measles.page)) and saved as a CSV file. This manual approach because the data is small."
   ]
  },
  {
   "cell_type": "code",
   "execution_count": 2,
   "metadata": {},
   "outputs": [
    {
     "data": {
      "text/html": [
       "<div>\n",
       "<style scoped>\n",
       "    .dataframe tbody tr th:only-of-type {\n",
       "        vertical-align: middle;\n",
       "    }\n",
       "\n",
       "    .dataframe tbody tr th {\n",
       "        vertical-align: top;\n",
       "    }\n",
       "\n",
       "    .dataframe thead th {\n",
       "        text-align: right;\n",
       "    }\n",
       "</style>\n",
       "<table border=\"1\" class=\"dataframe\">\n",
       "  <thead>\n",
       "    <tr style=\"text-align: right;\">\n",
       "      <th></th>\n",
       "      <th>Start Date</th>\n",
       "      <th>End Date</th>\n",
       "      <th>Sep 2018</th>\n",
       "      <th>Oct 2018</th>\n",
       "      <th>Nov 2018</th>\n",
       "      <th>Dec 2018</th>\n",
       "      <th>Jan 2019</th>\n",
       "      <th>Feb 2019</th>\n",
       "      <th>Mar 2019</th>\n",
       "      <th>Apr 2019</th>\n",
       "      <th>May 2019</th>\n",
       "      <th>Jun 2019</th>\n",
       "      <th>Jul 2019</th>\n",
       "      <th>Aug 2019</th>\n",
       "      <th>Total</th>\n",
       "    </tr>\n",
       "  </thead>\n",
       "  <tbody>\n",
       "    <tr>\n",
       "      <th>0</th>\n",
       "      <td>2018-09-01</td>\n",
       "      <td>2019-08-19</td>\n",
       "      <td>1</td>\n",
       "      <td>13</td>\n",
       "      <td>28</td>\n",
       "      <td>14</td>\n",
       "      <td>37</td>\n",
       "      <td>71</td>\n",
       "      <td>169</td>\n",
       "      <td>193</td>\n",
       "      <td>97</td>\n",
       "      <td>20</td>\n",
       "      <td>6</td>\n",
       "      <td>0</td>\n",
       "      <td>649</td>\n",
       "    </tr>\n",
       "  </tbody>\n",
       "</table>\n",
       "</div>"
      ],
      "text/plain": [
       "   Start Date    End Date  Sep 2018  Oct 2018  Nov 2018  Dec 2018  Jan 2019  \\\n",
       "0  2018-09-01  2019-08-19         1        13        28        14        37   \n",
       "\n",
       "   Feb 2019  Mar 2019  Apr 2019  May 2019  Jun 2019  Jul 2019  Aug 2019  Total  \n",
       "0        71       169       193        97        20         6         0    649  "
      ]
     },
     "execution_count": 2,
     "metadata": {},
     "output_type": "execute_result"
    }
   ],
   "source": [
    "# Set (relative) path to the CSV data file\n",
    "data_file = os.path.join('..', 'data', 'nyc-health', 'final', 'nyc-new-measles-cases-by-month.csv')\n",
    "\n",
    "# Import data from the CSV file as a pandas dataframe\n",
    "df = pd.read_csv(data_file)\n",
    "\n",
    "# Show the data\n",
    "df"
   ]
  },
  {
   "cell_type": "markdown",
   "metadata": {},
   "source": [
    "## Extract context information"
   ]
  },
  {
   "cell_type": "markdown",
   "metadata": {},
   "source": [
    "We want to show the start and end dates in the plot, to provide context. We use just the month information for consistency across all data visualizations."
   ]
  },
  {
   "cell_type": "code",
   "execution_count": 3,
   "metadata": {},
   "outputs": [
    {
     "data": {
      "text/plain": [
       "['Sep 2018', 'Aug 2019']"
      ]
     },
     "execution_count": 3,
     "metadata": {},
     "output_type": "execute_result"
    }
   ],
   "source": [
    "# Notes about the lambda function below:\n",
    "# - 1. strptime transforms the raw date string to a datetime object\n",
    "# - 2. strftime transforms the datetime object to a nicelly formatted date string\n",
    "[start_month, end_month] = map(\n",
    "    lambda x: datetime.strptime(x, '%Y-%m-%d').strftime('%b %Y'),\n",
    "    df.iloc[0, :2]\n",
    ")\n",
    "\n",
    "# Show the nicelly formated date strings\n",
    "[start_month, end_month]"
   ]
  },
  {
   "cell_type": "markdown",
   "metadata": {},
   "source": [
    "We also want to show the total number of cases in the plot, to provide context."
   ]
  },
  {
   "cell_type": "code",
   "execution_count": 4,
   "metadata": {},
   "outputs": [
    {
     "data": {
      "text/plain": [
       "649"
      ]
     },
     "execution_count": 4,
     "metadata": {},
     "output_type": "execute_result"
    }
   ],
   "source": [
    "# Get the number of total cases\n",
    "total_cases = df.iloc[0, -1]\n",
    "\n",
    "# Check if there is a problem with the data where the reported total\n",
    "# does not match the sum of the number of cases for each age group\n",
    "if total_cases != df.iloc[0, 2:-1].sum():\n",
    "    print('WARNING: cases for each age group do NOT add up to the reported total!')\n",
    "\n",
    "# Show the total cases\n",
    "total_cases"
   ]
  },
  {
   "cell_type": "markdown",
   "metadata": {},
   "source": [
    "### Extract the data to plot"
   ]
  },
  {
   "cell_type": "code",
   "execution_count": 5,
   "metadata": {},
   "outputs": [
    {
     "data": {
      "text/plain": [
       "Sep 2018      1\n",
       "Oct 2018     13\n",
       "Nov 2018     28\n",
       "Dec 2018     14\n",
       "Jan 2019     37\n",
       "Feb 2019     71\n",
       "Mar 2019    169\n",
       "Apr 2019    193\n",
       "May 2019     97\n",
       "Jun 2019     20\n",
       "Jul 2019      6\n",
       "Aug 2019      0\n",
       "Name: 0, dtype: object"
      ]
     },
     "execution_count": 5,
     "metadata": {},
     "output_type": "execute_result"
    }
   ],
   "source": [
    "# Extract the data to plot\n",
    "data_to_plot = df.iloc[0, 2:-1]\n",
    "\n",
    "# Show the data to plot\n",
    "data_to_plot"
   ]
  },
  {
   "cell_type": "markdown",
   "metadata": {},
   "source": [
    "### Create month labels\n",
    "\n",
    "Create nicely formatted month labels to be used in the bar chart."
   ]
  },
  {
   "cell_type": "code",
   "execution_count": 6,
   "metadata": {},
   "outputs": [
    {
     "data": {
      "text/plain": [
       "['Sep\\n2018',\n",
       " 'Oct',\n",
       " 'Nov',\n",
       " 'Dec',\n",
       " 'Jan\\n2019',\n",
       " 'Feb',\n",
       " 'Mar',\n",
       " 'Apr',\n",
       " 'May',\n",
       " 'Jun',\n",
       " 'Jul',\n",
       " 'Aug\\n2019']"
      ]
     },
     "execution_count": 6,
     "metadata": {},
     "output_type": "execute_result"
    }
   ],
   "source": [
    "# Get the 'raw' month labels\n",
    "month_labels = list(data_to_plot.index)\n",
    "\n",
    "# For the first and last month: show month and year but\n",
    "# replace the space between the month and year with a line break\n",
    "first_label = month_labels[0].replace(' ', '\\n')\n",
    "last_label = month_labels[-1].replace(' ', '\\n')\n",
    "\n",
    "# For the intermediate months: show only the month (not the year), except\n",
    "# for Jan in which case show the month and year with a line break in between\n",
    "middle_labels = list(map(\n",
    "    lambda s: s.replace(' ', '\\n') if s[0:3] == 'Jan' else s[0:3],\n",
    "    month_labels[1:-1]\n",
    "))\n",
    "\n",
    "# Join all the month labels\n",
    "month_labels = [first_label] + middle_labels + [last_label]\n",
    "\n",
    "# Show the nicely formated month labels\n",
    "month_labels"
   ]
  },
  {
   "cell_type": "markdown",
   "metadata": {},
   "source": [
    "## Create default bar chart"
   ]
  },
  {
   "cell_type": "code",
   "execution_count": 7,
   "metadata": {},
   "outputs": [
    {
     "data": {
      "image/png": "[encoded data removed]",
      "text/plain": [
       "<Figure size 432x288 with 1 Axes>"
      ]
     },
     "metadata": {
      "needs_background": "light"
     },
     "output_type": "display_data"
    }
   ],
   "source": [
    "fig_default = plt.figure()\n",
    "ax = data_to_plot.plot.bar()\n",
    "plt.title('NYC new measles cases by month')\n",
    "plt.show()"
   ]
  },
  {
   "cell_type": "markdown",
   "metadata": {},
   "source": [
    "## Save default bar chart"
   ]
  },
  {
   "cell_type": "code",
   "execution_count": 8,
   "metadata": {},
   "outputs": [],
   "source": [
    "# Set image file path/name (without file extension)\n",
    "img_file = os.path.join('..', 'images', 'nyc-new-measles-cases-by-month-bar-chart-default')\n",
    "\n",
    "# Save as PNG image\n",
    "fig_default.savefig(img_file + '.png', bbox_inches='tight', dpi=200)\n",
    "\n",
    "# Save as SVG image\n",
    "fig_default.savefig(img_file + '.svg', bbox_inches='tight')"
   ]
  },
  {
   "cell_type": "markdown",
   "metadata": {},
   "source": [
    "## Create improved bar chart\n",
    "\n",
    "We want the bar chart to be clear and to contain the necessary context.\n",
    "\n",
    "To contextualize the bar chart we:\n",
    "* use a title that explictly says what the bar chart represents;\n",
    "* add text annotations that provides information about:\n",
    "    * the start and end dates, \n",
    "    * the total number of cases during that period, and\n",
    "    * the data and image sources.\n",
    "\n",
    "To make the bar chart as clear as possible we:\n",
    "* explicitly show the number of new cases for each month;\n",
    "* use nicelly format labels for the months;\n",
    "* use a large enough font to make all labels easy to read;\n",
    "* remove unnecessary elements (x-axis ticks, y-axis ticks and values, and plot box)."
   ]
  },
  {
   "cell_type": "code",
   "execution_count": 9,
   "metadata": {},
   "outputs": [
    {
     "data": {
      "image/png": "[encoded data removed]",
      "text/plain": [
       "<Figure size 432x288 with 1 Axes>"
      ]
     },
     "metadata": {
      "needs_background": "light"
     },
     "output_type": "display_data"
    }
   ],
   "source": [
    "# Define font parameters\n",
    "fn = 'Arial' # font name\n",
    "fsb = 12     # font size base\n",
    "\n",
    "# Create figure\n",
    "fig = plt.figure()\n",
    "\n",
    "# Add figure title\n",
    "#plt.title('NYC new measles cases by month', fontname=fn, fontsize=(fsb + 4))\n",
    "fig.suptitle('NYC new measles cases by month', fontname=fn, fontsize=(fsb + 4))\n",
    "\n",
    "# Create the bar chart\n",
    "ax = data_to_plot.plot.bar(alpha=0.3, color='red', width=0.8)\n",
    "\n",
    "# Remove the y-axis ticks and labels/values\n",
    "#ax.get_yaxis().set_ticks([])\n",
    "ax.set_yticks([])\n",
    "\n",
    "# Remove the x-axis ticks\n",
    "ax.xaxis.set_ticks_position('none')\n",
    "\n",
    "# Set the x-axis labels\n",
    "ax.set_xticklabels(month_labels, fontname=fn, fontsize=(fsb-1), rotation=0)\n",
    "\n",
    "# Create the labels on top of the bars to explicitly show the\n",
    "# number of new measles cases in each month\n",
    "for i in ax.patches:\n",
    "    ax.text(i.get_x() + 0.4, i.get_height() + 5, str(i.get_height()),\n",
    "            fontname = fn, fontsize = fsb, horizontalalignment = 'center')\n",
    "\n",
    "# Remove the axes box\n",
    "plt.box(False)\n",
    "\n",
    "# Add note about the total cases\n",
    "text = str(total_cases) + ' total confirmed cases from ' + start_month + ' to ' + end_month\n",
    "fig.text(0.5, -0.07, text, fontname=fn, fontsize=(fsb - 1), horizontalalignment='center')\n",
    "\n",
    "# Add note about Apr 2019\n",
    "text = 'In Apr 2019 NYC increased its MMR vaccination efforts'\n",
    "fig.text(0.5, -0.14, text, fontname=fn, fontsize=(fsb - 1), horizontalalignment='center')\n",
    "\n",
    "# Add note about the end of the outbreak\n",
    "text = 'Community transmission was declared over on Sep 3, 2019'\n",
    "fig.text(0.5, -0.21, text, fontname=fn, fontsize=(fsb - 1), horizontalalignment='center')\n",
    "\n",
    "# Add note about the Data and Image sources\n",
    "sources = 'Data: NYC Health, Image: carlos-afonso.github.io/measles'\n",
    "fig.text(0.5, -0.28, sources, fontname='Lucida Console', fontsize=(fsb - 3), horizontalalignment='center')\n",
    "\n",
    "# Show figure\n",
    "plt.show()"
   ]
  },
  {
   "cell_type": "markdown",
   "metadata": {},
   "source": [
    "## Save improved bar chart"
   ]
  },
  {
   "cell_type": "code",
   "execution_count": 10,
   "metadata": {},
   "outputs": [],
   "source": [
    "# Set image file path/name (without file extension)\n",
    "img_file = os.path.join('..', 'images', 'nyc-new-measles-cases-by-month-bar-chart')\n",
    "\n",
    "# Save as PNG image\n",
    "fig.savefig(img_file + '.png', bbox_inches='tight', dpi=200)\n",
    "\n",
    "# Save as SVG image\n",
    "fig.savefig(img_file + '.svg', bbox_inches='tight')"
   ]
  },
  {
   "cell_type": "markdown",
   "metadata": {},
   "source": [
    "## Export notebook as HTML"
   ]
  },
  {
   "cell_type": "code",
   "execution_count": 11,
   "metadata": {},
   "outputs": [
    {
     "data": {
      "text/plain": [
       "0"
      ]
     },
     "execution_count": 11,
     "metadata": {},
     "output_type": "execute_result"
    }
   ],
   "source": [
    "# Export this notebook as a static HTML page\n",
    "os.system('jupyter nbconvert --to html nyc-new-measles-cases-by-month-final.ipynb')"
   ]
  }
 ],
 "metadata": {
  "kernelspec": {
   "display_name": "Python 3",
   "language": "python",
   "name": "python3"
  },
  "language_info": {
   "codemirror_mode": {
    "name": "ipython",
    "version": 3
   },
   "file_extension": ".py",
   "mimetype": "text/x-python",
   "name": "python",
   "nbconvert_exporter": "python",
   "pygments_lexer": "ipython3",
   "version": "3.7.4"
  },
  "toc-autonumbering": false
 },
 "nbformat": 4,
 "nbformat_minor": 4
}
