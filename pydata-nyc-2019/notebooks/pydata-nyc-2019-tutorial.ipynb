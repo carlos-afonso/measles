{
 "cells": [
  {
   "cell_type": "markdown",
   "metadata": {},
   "source": [
    "# Visualizing the 2019 Measles Outbreak in NYC (with Python)\n",
    "\n",
    "[PyData NYC 2019](https://pydata.org/nyc2019/) tutorial, November 6, 2019\n",
    "\n",
    "__Carlos Afonso__ ( [linkedin.com/in/carlos-afonso-w](https://www.linkedin.com/in/carlos-afonso-w/) )\n",
    "\n",
    "* GitHub repository: [github.com/carlos-afonso/measles](https://github.com/carlos-afonso/measles/)\n",
    "    * [README.md](https://github.com/carlos-afonso/measles/blob/master/README.md) describes the package requirements and provides installation instructions\n",
    "    * Directory containing all the tutorial materials: [pydata-nyc-2019](https://github.com/carlos-afonso/measles/tree/master/pydata-nyc-2019)\n",
    "    * Tutorial notebook (this notebook): `pydata-nyc-2019-tutorial.ipynb` ( [.ipynb](https://github.com/carlos-afonso/measles/blob/master/pydata-nyc-2019/notebooks/pydata-nyc-2019-tutorial.ipynb) ) ( [.html](https://carlos-afonso.github.io/measles/pydata-nyc-2019/notebooks/pydata-nyc-2019-tutorial.html) )\n",
    "        * If you have problems seeing the .ipynb version, you can always see the static .html version\n",
    "* Project webpage: [carlos-afonso.github.io/measles](https://carlos-afonso.github.io/measles/)"
   ]
  },
  {
   "cell_type": "markdown",
   "metadata": {},
   "source": [
    "## Acknowledgements\n",
    "\n",
    "Thanks to:\n",
    "\n",
    "* PyData NYC 2019 organization for giving me the opportunity to present this tutorial\n",
    "* NYC Health for making the measles data available online"
   ]
  },
  {
   "cell_type": "markdown",
   "metadata": {},
   "source": [
    "## Disclaimers\n",
    "\n",
    "* This is a personal project.\n",
    "* I am __not__ affiliated with NYC Health.\n",
    "* This is __not__ medical advice.\n",
    "* This notebook is intentionally verbose (for those following the tutorial only with the notebook).\n",
    "* The tutorial presentation is open to discussion and questions."
   ]
  },
  {
   "cell_type": "markdown",
   "metadata": {},
   "source": [
    "## Summary\n",
    "\n",
    "Context:\n",
    "* Example of a small data project that can help people understand an important issue.\n",
    "* The US is amid its largest measles outbreak since 1992, with 1,250 cases as of Oct 3, 2019.\n",
    "* Most cases (649) were in NYC, where the outbreak was declared over on Sep 3, 2019.\n",
    "\n",
    "Goals:\n",
    "* Discuss and show how to create data visualizations that help understand the 2019 measles outbreak in NYC.\n",
    "* Bubble maps and bar charts are created using Python (bokeh, matplotlib) and following principles of clarity and context."
   ]
  },
  {
   "cell_type": "markdown",
   "metadata": {},
   "source": [
    "<table style=\"table-layout:fixed; width:100%;\">\n",
    "    <tr>\n",
    "        <td style=\"padding:10px; text-align:center; vertical-align:middle;\"><img src=\"../images/nyc-new-measles-cases-by-month-bar-chart.png\" style=\"border:1px solid black; padding:5px;\"></td>\n",
    "        <td style=\"padding:10px; text-align:center; vertical-align:middle;\"><img src=\"../images/nyc-measles-cases-by-neighborhood-map-final.png\" style=\"border:1px solid black; padding:5px;\"></td>\n",
    "    </tr>\n",
    "</table>\n",
    "\n",
    "<table style=\"table-layout:fixed; width:100%;\">\n",
    "    <tr>\n",
    "        <td style=\"padding:20px; text-align:center; vertical-align:middle;\"><img src=\"../images/nyc-measles-cases-by-age-bar-chart.png\" style=\"border:1px solid black; padding:5px;\"></td>\n",
    "        <td style=\"padding:20px; text-align:center; vertical-align:middle;\"><img src=\"../images/nyc-measles-cases-by-vaccination-status-bar-chart.png\" style=\"border:1px solid black; padding:5px;\"></td>\n",
    "    </tr>\n",
    "</table>"
   ]
  },
  {
   "cell_type": "markdown",
   "metadata": {
    "toc-hr-collapsed": true
   },
   "source": [
    "## Introduction"
   ]
  },
  {
   "cell_type": "markdown",
   "metadata": {},
   "source": [
    "### Carlos Afonso\n",
    "\n",
    "_Passionate about using Data Science to solve important problems_\n",
    "\n",
    "Data Scientist with diverse industry experience and multidisciplinary STEM background\n",
    "* MSc in Physics Engineering (IST, Portugal)\n",
    "* Research toward PhD in Biomedical Engineering (University of Oxford, UK) - unfinished\n",
    "* 4 years of professional experience solving Data Science problems for a variety of clients and industries\n",
    "\n",
    "Created the [Visualizing the 2019 Measles Outbreak](https://carlos-afonso.github.io/measles/) open source project.\n",
    "\n",
    "Connect with me on [linkedin.com/in/carlos-afonso-w](https://www.linkedin.com/in/carlos-afonso-w/)"
   ]
  },
  {
   "cell_type": "markdown",
   "metadata": {},
   "source": [
    "### Motivations\n",
    "\n",
    "__Initial:__ The large majority of NYC measles cases were in my neighborhood (Williamsburg, Brooklyn).\n",
    "* NYC Health provides the names of all the affected neighborhoods but I didn't know the location of most of them. I imagine many people would not know the location of those neighborhoods either. So, I thought I could create a visualization to highlight those neighborhoods on the NYC map.\n",
    "\n",
    "__Technical / Practical:__ Opportunity to learn / practice / showcase fundamental and advanced data visualization skills.\n",
    "\n",
    "__General:__ Example of a small data project that can help people understand an important issue.\n",
    "* _A challenge for you: Think about your experiences and your communities, and see if you can find an interesting data project to work on._"
   ]
  },
  {
   "cell_type": "markdown",
   "metadata": {},
   "source": [
    "### What is measles?\n",
    "\n",
    "Measles is a very contagious disease caused by a virus. It spreads through the air when an infected person coughs or sneezes.\n",
    "\n",
    "Measles can be prevented with MMR (measles, mumps, rubella) vaccine. CDC recommends children get two doses of MMR vaccine:\n",
    "* first dose at **12 through 15 months of age**,\n",
    "* second dose at **4 through 6 years of age**.\n",
    "\n",
    "The MMR vaccine is very safe and effective at preventing measles:\n",
    "* one dose is about 93% effective,\n",
    "* two doses are about 97% effective.\n",
    "\n",
    "Reference: Centers for Disease Control and Prevention (CDC): https://www.cdc.gov/vaccines/vpd/measles/index.html"
   ]
  },
  {
   "cell_type": "markdown",
   "metadata": {},
   "source": [
    "### Measles in the US\n",
    "\n",
    "__(1963)__ Before the measles vaccination program started in 1963, an estimated 3 to 4 million people got measles each year in the United States.\n",
    "* Of these, approximately 500,000 cases were reported each year to CDC; of these:\n",
    "    * 400 to 500 died,\n",
    "    * 48,000 were hospitalized, and\n",
    "    * 1,000 developed encephalitis (brain swelling).\n",
    "\n",
    "Since then, widespread use of measles virus-containing vaccine has led to a greater than 99% reduction in measles cases compared with the pre-vaccine era.\n",
    "\n",
    "__(2000)__ Measles was declared eliminated from the US in 2000, thanks to an effective vaccination program.\n",
    "\n",
    "However, measles is still common in other countries. Unvaccinated people continue to get measles while abroad and bring the disease into the United States and spread it to others.\n",
    "\n",
    "__(2019)__ The US is amid its largest measles outbreak since 1992, with 1,250 (preliminarily) confirmed cases as of Oct 3, 2019.\n",
    "* Most of those cases (649) were in NYC, where the outbreak was declared over on Sep 3, 2019.\n",
    "\n",
    "References:\n",
    "* Centers for Disease Control and Prevention (CDC):\n",
    "    * https://www.cdc.gov/vaccines/vpd/measles/index.html\n",
    "    * https://www.cdc.gov/measles/cases-outbreaks.html\n",
    "* NYC Health Department: https://www1.nyc.gov/site/doh/health/health-topics/measles.page"
   ]
  },
  {
   "cell_type": "markdown",
   "metadata": {
    "toc-hr-collapsed": true
   },
   "source": [
    "## Data"
   ]
  },
  {
   "cell_type": "markdown",
   "metadata": {},
   "source": [
    "### Data Source\n",
    "\n",
    "Of all the affected areas, NYC provides the best data about the 2019 measles outbreak.\n",
    "\n",
    "The [NYC Health Measles webpage](https://www1.nyc.gov/site/doh/health/health-topics/measles.page) provides raw data about the number of measles cases by:\n",
    "* Neighborhood\n",
    "* Date\n",
    "* Age and Vaccination Status\n"
   ]
  },
  {
   "cell_type": "markdown",
   "metadata": {},
   "source": [
    "Screenshots (from Nov 5, 2019), in case we can't access the website during the tutorial:\n",
    "\n",
    "<table>\n",
    "    <tr>\n",
    "        <td style=\"vertical-align:top;\"><img src=\"../images/nyc-health-screenshots/nyc-measles-cases-data-headings-2019-11-05.png\"></td>\n",
    "        <td style=\"vertical-align:top;\"><img src=\"../images/nyc-health-screenshots/nyc-measles-cases-by-neighborhood-2019-11-05.png\"></td>\n",
    "        <td style=\"vertical-align:top;\"><img src=\"../images/nyc-health-screenshots/nyc-measles-cases-by-date-2019-11-05.png\"></td>\n",
    "        <td style=\"vertical-align:top;\"><img src=\"../images/nyc-health-screenshots/nyc-measles-cases-by-age-and-vaccination-status-2019-11-05.png\"></td>\n",
    "    </tr>\n",
    "</table>\n"
   ]
  },
  {
   "cell_type": "markdown",
   "metadata": {},
   "source": [
    "### Data Collection\n",
    "\n",
    "Data versions:\n",
    "\n",
    "* __Preliminary data__ (during the measles outbreak):\n",
    "    * Collected / Updated the data manually and stored in CSV or XLSX files.\n",
    "    * Used manual approach because the data was small and updated infrequently (about once a week).\n",
    "    * Web Archive can be useful to find older data versions, as it saves different temporal versions of webpages.\n",
    "        * Web Archive has several temporal versions of the NYC Health Measles webpage: https://web.archive.org/web/*/https://www1.nyc.gov/site/doh/health/health-topics/measles.page\n",
    "* __\"Final\" data__ (after the outbreak was declared over on Sep 3, 2019)\n",
    "    * Collected the data manually and stored in CSV files\n",
    "    * Used manual approach because the data was small\n",
    "    * No need to update the \"final\" data so far (the outbreak remains over, as of Nov 5, 2019)\n",
    "\n",
    "Notes:\n",
    "\n",
    "* __This tutorial use only the \"final\" data version.__\n",
    "* \"Cases by Age\" and \"Cases by Vaccination Status\" saved is separate CSV files.\n",
    "* Always collect and save the \"start date\" and \"end date\" information.\n",
    "\n",
    "Let's read and have a quick look at the data:"
   ]
  },
  {
   "cell_type": "code",
   "execution_count": 1,
   "metadata": {},
   "outputs": [],
   "source": [
    "import os\n",
    "import pandas as pd"
   ]
  },
  {
   "cell_type": "markdown",
   "metadata": {},
   "source": [
    "* NYC measles cases by age data:"
   ]
  },
  {
   "cell_type": "code",
   "execution_count": 2,
   "metadata": {},
   "outputs": [
    {
     "data": {
      "text/html": [
       "<div>\n",
       "<style scoped>\n",
       "    .dataframe tbody tr th:only-of-type {\n",
       "        vertical-align: middle;\n",
       "    }\n",
       "\n",
       "    .dataframe tbody tr th {\n",
       "        vertical-align: top;\n",
       "    }\n",
       "\n",
       "    .dataframe thead th {\n",
       "        text-align: right;\n",
       "    }\n",
       "</style>\n",
       "<table border=\"1\" class=\"dataframe\">\n",
       "  <thead>\n",
       "    <tr style=\"text-align: right;\">\n",
       "      <th></th>\n",
       "      <th>Start Date</th>\n",
       "      <th>End Date</th>\n",
       "      <th>Under 1 year</th>\n",
       "      <th>1 to 4 years</th>\n",
       "      <th>5 to 17 years</th>\n",
       "      <th>18 years and over</th>\n",
       "      <th>Total</th>\n",
       "    </tr>\n",
       "  </thead>\n",
       "  <tbody>\n",
       "    <tr>\n",
       "      <th>0</th>\n",
       "      <td>2018-09-01</td>\n",
       "      <td>2019-08-19</td>\n",
       "      <td>102</td>\n",
       "      <td>277</td>\n",
       "      <td>146</td>\n",
       "      <td>124</td>\n",
       "      <td>649</td>\n",
       "    </tr>\n",
       "  </tbody>\n",
       "</table>\n",
       "</div>"
      ],
      "text/plain": [
       "   Start Date    End Date  Under 1 year  1 to 4 years  5 to 17 years  \\\n",
       "0  2018-09-01  2019-08-19           102           277            146   \n",
       "\n",
       "   18 years and over  Total  \n",
       "0                124    649  "
      ]
     },
     "execution_count": 2,
     "metadata": {},
     "output_type": "execute_result"
    }
   ],
   "source": [
    "pd.read_csv(os.path.join('..', 'data', 'nyc-health', 'final',\n",
    "                         'nyc-measles-cases-by-age.csv'))"
   ]
  },
  {
   "cell_type": "markdown",
   "metadata": {},
   "source": [
    "* NYC measles cases by vaccination status data:"
   ]
  },
  {
   "cell_type": "code",
   "execution_count": 3,
   "metadata": {},
   "outputs": [
    {
     "data": {
      "text/html": [
       "<div>\n",
       "<style scoped>\n",
       "    .dataframe tbody tr th:only-of-type {\n",
       "        vertical-align: middle;\n",
       "    }\n",
       "\n",
       "    .dataframe tbody tr th {\n",
       "        vertical-align: top;\n",
       "    }\n",
       "\n",
       "    .dataframe thead th {\n",
       "        text-align: right;\n",
       "    }\n",
       "</style>\n",
       "<table border=\"1\" class=\"dataframe\">\n",
       "  <thead>\n",
       "    <tr style=\"text-align: right;\">\n",
       "      <th></th>\n",
       "      <th>Start Date</th>\n",
       "      <th>End Date</th>\n",
       "      <th>Unvaccinated</th>\n",
       "      <th>One Prior MMR</th>\n",
       "      <th>Two Prior MMR</th>\n",
       "      <th>Unknown MMR</th>\n",
       "      <th>Total</th>\n",
       "    </tr>\n",
       "  </thead>\n",
       "  <tbody>\n",
       "    <tr>\n",
       "      <th>0</th>\n",
       "      <td>2018-09-01</td>\n",
       "      <td>2019-08-19</td>\n",
       "      <td>477</td>\n",
       "      <td>47</td>\n",
       "      <td>31</td>\n",
       "      <td>94</td>\n",
       "      <td>649</td>\n",
       "    </tr>\n",
       "  </tbody>\n",
       "</table>\n",
       "</div>"
      ],
      "text/plain": [
       "   Start Date    End Date  Unvaccinated  One Prior MMR  Two Prior MMR  \\\n",
       "0  2018-09-01  2019-08-19           477             47             31   \n",
       "\n",
       "   Unknown MMR  Total  \n",
       "0           94    649  "
      ]
     },
     "execution_count": 3,
     "metadata": {},
     "output_type": "execute_result"
    }
   ],
   "source": [
    "pd.read_csv(os.path.join('..', 'data', 'nyc-health', 'final',\n",
    "                         'nyc-measles-cases-by-vaccination-status.csv'))"
   ]
  },
  {
   "cell_type": "markdown",
   "metadata": {},
   "source": [
    "* NYC new measles cases by month data:"
   ]
  },
  {
   "cell_type": "code",
   "execution_count": 4,
   "metadata": {},
   "outputs": [
    {
     "data": {
      "text/html": [
       "<div>\n",
       "<style scoped>\n",
       "    .dataframe tbody tr th:only-of-type {\n",
       "        vertical-align: middle;\n",
       "    }\n",
       "\n",
       "    .dataframe tbody tr th {\n",
       "        vertical-align: top;\n",
       "    }\n",
       "\n",
       "    .dataframe thead th {\n",
       "        text-align: right;\n",
       "    }\n",
       "</style>\n",
       "<table border=\"1\" class=\"dataframe\">\n",
       "  <thead>\n",
       "    <tr style=\"text-align: right;\">\n",
       "      <th></th>\n",
       "      <th>Start Date</th>\n",
       "      <th>End Date</th>\n",
       "      <th>Sep 2018</th>\n",
       "      <th>Oct 2018</th>\n",
       "      <th>Nov 2018</th>\n",
       "      <th>Dec 2018</th>\n",
       "      <th>Jan 2019</th>\n",
       "      <th>Feb 2019</th>\n",
       "      <th>Mar 2019</th>\n",
       "      <th>Apr 2019</th>\n",
       "      <th>May 2019</th>\n",
       "      <th>Jun 2019</th>\n",
       "      <th>Jul 2019</th>\n",
       "      <th>Aug 2019</th>\n",
       "      <th>Total</th>\n",
       "    </tr>\n",
       "  </thead>\n",
       "  <tbody>\n",
       "    <tr>\n",
       "      <th>0</th>\n",
       "      <td>2018-09-01</td>\n",
       "      <td>2019-08-19</td>\n",
       "      <td>1</td>\n",
       "      <td>13</td>\n",
       "      <td>28</td>\n",
       "      <td>14</td>\n",
       "      <td>37</td>\n",
       "      <td>71</td>\n",
       "      <td>169</td>\n",
       "      <td>193</td>\n",
       "      <td>97</td>\n",
       "      <td>20</td>\n",
       "      <td>6</td>\n",
       "      <td>0</td>\n",
       "      <td>649</td>\n",
       "    </tr>\n",
       "  </tbody>\n",
       "</table>\n",
       "</div>"
      ],
      "text/plain": [
       "   Start Date    End Date  Sep 2018  Oct 2018  Nov 2018  Dec 2018  Jan 2019  \\\n",
       "0  2018-09-01  2019-08-19         1        13        28        14        37   \n",
       "\n",
       "   Feb 2019  Mar 2019  Apr 2019  May 2019  Jun 2019  Jul 2019  Aug 2019  Total  \n",
       "0        71       169       193        97        20         6         0    649  "
      ]
     },
     "execution_count": 4,
     "metadata": {},
     "output_type": "execute_result"
    }
   ],
   "source": [
    "pd.read_csv(os.path.join('..', 'data', 'nyc-health', 'final',\n",
    "                         'nyc-new-measles-cases-by-month.csv'))"
   ]
  },
  {
   "cell_type": "markdown",
   "metadata": {},
   "source": [
    "* NYC new measles cases by neighborhood data:"
   ]
  },
  {
   "cell_type": "code",
   "execution_count": 5,
   "metadata": {},
   "outputs": [
    {
     "data": {
      "text/html": [
       "<div>\n",
       "<style scoped>\n",
       "    .dataframe tbody tr th:only-of-type {\n",
       "        vertical-align: middle;\n",
       "    }\n",
       "\n",
       "    .dataframe tbody tr th {\n",
       "        vertical-align: top;\n",
       "    }\n",
       "\n",
       "    .dataframe thead th {\n",
       "        text-align: right;\n",
       "    }\n",
       "</style>\n",
       "<table border=\"1\" class=\"dataframe\">\n",
       "  <thead>\n",
       "    <tr style=\"text-align: right;\">\n",
       "      <th></th>\n",
       "      <th>neighborhood</th>\n",
       "      <th>confirmed cases (2018-09-01 to 2019-08-19)</th>\n",
       "    </tr>\n",
       "  </thead>\n",
       "  <tbody>\n",
       "    <tr>\n",
       "      <th>0</th>\n",
       "      <td>Bensonhurst</td>\n",
       "      <td>3</td>\n",
       "    </tr>\n",
       "    <tr>\n",
       "      <th>1</th>\n",
       "      <td>Borough Park</td>\n",
       "      <td>121</td>\n",
       "    </tr>\n",
       "    <tr>\n",
       "      <th>2</th>\n",
       "      <td>Brighton Beach/Coney Island</td>\n",
       "      <td>4</td>\n",
       "    </tr>\n",
       "    <tr>\n",
       "      <th>3</th>\n",
       "      <td>Chelsea/Clinton</td>\n",
       "      <td>1</td>\n",
       "    </tr>\n",
       "    <tr>\n",
       "      <th>4</th>\n",
       "      <td>Crown Heights</td>\n",
       "      <td>8</td>\n",
       "    </tr>\n",
       "    <tr>\n",
       "      <th>5</th>\n",
       "      <td>Far Rockaway</td>\n",
       "      <td>1</td>\n",
       "    </tr>\n",
       "    <tr>\n",
       "      <th>6</th>\n",
       "      <td>Flatbush</td>\n",
       "      <td>1</td>\n",
       "    </tr>\n",
       "    <tr>\n",
       "      <th>7</th>\n",
       "      <td>Flushing</td>\n",
       "      <td>3</td>\n",
       "    </tr>\n",
       "    <tr>\n",
       "      <th>8</th>\n",
       "      <td>Jamaica</td>\n",
       "      <td>2</td>\n",
       "    </tr>\n",
       "    <tr>\n",
       "      <th>9</th>\n",
       "      <td>Midwood/Marine Park</td>\n",
       "      <td>5</td>\n",
       "    </tr>\n",
       "    <tr>\n",
       "      <th>10</th>\n",
       "      <td>Port Richmond</td>\n",
       "      <td>3</td>\n",
       "    </tr>\n",
       "    <tr>\n",
       "      <th>11</th>\n",
       "      <td>Red Hook</td>\n",
       "      <td>1</td>\n",
       "    </tr>\n",
       "    <tr>\n",
       "      <th>12</th>\n",
       "      <td>Sunset Park</td>\n",
       "      <td>16</td>\n",
       "    </tr>\n",
       "    <tr>\n",
       "      <th>13</th>\n",
       "      <td>West Queens</td>\n",
       "      <td>1</td>\n",
       "    </tr>\n",
       "    <tr>\n",
       "      <th>14</th>\n",
       "      <td>Williamsburg</td>\n",
       "      <td>473</td>\n",
       "    </tr>\n",
       "    <tr>\n",
       "      <th>15</th>\n",
       "      <td>Willowbrook</td>\n",
       "      <td>6</td>\n",
       "    </tr>\n",
       "    <tr>\n",
       "      <th>16</th>\n",
       "      <td>TOTAL</td>\n",
       "      <td>649</td>\n",
       "    </tr>\n",
       "  </tbody>\n",
       "</table>\n",
       "</div>"
      ],
      "text/plain": [
       "                   neighborhood  confirmed cases (2018-09-01 to 2019-08-19)\n",
       "0                   Bensonhurst                                           3\n",
       "1                  Borough Park                                         121\n",
       "2   Brighton Beach/Coney Island                                           4\n",
       "3               Chelsea/Clinton                                           1\n",
       "4                 Crown Heights                                           8\n",
       "5                  Far Rockaway                                           1\n",
       "6                      Flatbush                                           1\n",
       "7                      Flushing                                           3\n",
       "8                       Jamaica                                           2\n",
       "9           Midwood/Marine Park                                           5\n",
       "10                Port Richmond                                           3\n",
       "11                     Red Hook                                           1\n",
       "12                  Sunset Park                                          16\n",
       "13                  West Queens                                           1\n",
       "14                 Williamsburg                                         473\n",
       "15                  Willowbrook                                           6\n",
       "16                        TOTAL                                         649"
      ]
     },
     "execution_count": 5,
     "metadata": {},
     "output_type": "execute_result"
    }
   ],
   "source": [
    "pd.read_csv(os.path.join('..', 'data', 'nyc-health', 'final',\n",
    "                         'nyc-measles-confirmed-cases-by-neighborhood.csv'))"
   ]
  },
  {
   "cell_type": "markdown",
   "metadata": {
    "toc-hr-collapsed": false
   },
   "source": [
    "## Visualizations"
   ]
  },
  {
   "cell_type": "markdown",
   "metadata": {},
   "source": [
    "### NYC new measles cases by month\n",
    "\n",
    "* Example of how to create a vertical bar chart to display temporal data.\n",
    "* Show how to adjust the bar chart properties to provide context and clarity:\n",
    "    * For context: use title and annotations to provide the necessary information.\n",
    "    * For clarity: remove unnecessary chart elements, format month names, show labels with the number of cases.\n",
    "* __Insights:__ The bar chart clearly shows that, after peaking in Apr 2019, the number of new measles cases declined progressively until it reached 0 in Aug 2019. This is an indication that the additional MMR vaccination efforts that the NYC Health department started taking in April 2019 seem to have helped control the outbreak.\n",
    "* Below, we compare the default matplotlib bar chart (left) with the improved bar chart (right), for this data.\n",
    "* Notebook used to create these bar charts: `nyc-new-measles-cases-by-month-final.ipynb` ( [.ipynb](./nyc-new-measles-cases-by-month-final.ipynb) ) ( [.html](https://carlos-afonso.github.io/measles/pydata-nyc-2019/notebooks/nyc-new-measles-cases-by-month-final.html) )\n",
    "    * If you have problems seeing the .ipynb version, you can always see the static .html version."
   ]
  },
  {
   "cell_type": "markdown",
   "metadata": {},
   "source": [
    "<table style=\"table-layout:fixed; width:100%;\">\n",
    "    <tr>\n",
    "        <th>Default</th>\n",
    "        <th>Improved</th>\n",
    "    </tr>\n",
    "    <tr>\n",
    "        <td style=\"padding:30px; vertical-align:top;\"><img src=\"../images/nyc-new-measles-cases-by-month-bar-chart-default.png\"></td>\n",
    "        <td style=\"padding:30px; vertical-align:top;\"><img src=\"../images/nyc-new-measles-cases-by-month-bar-chart.png\"></td>\n",
    "    </tr>\n",
    "</table>"
   ]
  },
  {
   "cell_type": "markdown",
   "metadata": {},
   "source": [
    "### NYC measles cases by age\n",
    "\n",
    "* Example of how to create a horizontal bar chart to display categorical data.\n",
    "* Example of a case when it is better to use a horizontal rather than a vertical bar chart.\n",
    "* Show how to adjust the bar chart properties to provide context and clarity.\n",
    "    * For context: use title and annotation to provide the necessary information.\n",
    "    * For clarity: remove unnecessary chart elements, show labels with the number and percentages of cases.\n",
    "* __Insights:__ The bar chart shows that most of the NYC measles cases are in young children.\n",
    "* Below, we compare the default matplotlib bar chart (left) with the improved bar chart (right), for this data.\n",
    "* Notebook used to create these bar charts: `nyc-measles-cases-by-age-final.ipynb` ( [.ipynb](./nyc-measles-cases-by-age-final.ipynb) ) ( [.html](https://carlos-afonso.github.io/measles/pydata-nyc-2019/notebooks/nyc-measles-cases-by-age-final.html) )\n",
    "    * If you have problems seeing the .ipynb version, you can always see the static .html version."
   ]
  },
  {
   "cell_type": "markdown",
   "metadata": {},
   "source": [
    "<table style=\"table-layout:fixed; width:100%;\">\n",
    "    <tr>\n",
    "        <th>Default</th>\n",
    "        <th>Improved</th>\n",
    "    </tr>\n",
    "    <tr>\n",
    "        <td style=\"padding:30px; vertical-align:top;\"><img src=\"../images/nyc-measles-cases-by-age-bar-chart-default.png\"></td>\n",
    "        <td style=\"padding:30px; vertical-align:top;\"><img src=\"../images/nyc-measles-cases-by-age-bar-chart.png\"></td>\n",
    "    </tr>\n",
    "</table>"
   ]
  },
  {
   "cell_type": "markdown",
   "metadata": {},
   "source": [
    "### NYC measles cases by vaccination status\n",
    "\n",
    "* Technically this is a horizontal bar chart similar to the one in the previous section (NYC measles cases by age).\n",
    "* __Insights:__ This bar chart clearly shows that the large majority of the people who got measles were unvaccinated.\n",
    "* Below, we compare the default matplotlib bar chart (left) with the improved bar chart (right), for this data.\n",
    "* Notebook used to create these bar charts: `nyc-measles-cases-by-vaccination-status-final.ipynb` ( [.ipynb](./nyc-measles-cases-by-vaccination-status-final.ipynb) ) ( [.html](https://carlos-afonso.github.io/measles/pydata-nyc-2019/notebooks/nyc-measles-cases-by-vaccination-status-final.html) )\n",
    "    * If you have problems seeing the .ipynb version, you can always see the static .html version."
   ]
  },
  {
   "cell_type": "markdown",
   "metadata": {},
   "source": [
    "<table style=\"table-layout:fixed; width:100%;\">\n",
    "    <tr>\n",
    "        <th>Default</th>\n",
    "        <th>Improved</th>\n",
    "    </tr>\n",
    "    <tr>\n",
    "        <td style=\"padding:30px; vertical-align:top;\"><img src=\"../images/nyc-measles-cases-by-vaccination-status-bar-chart-default.png\"></td>\n",
    "        <td style=\"padding:30px; vertical-align:top;\"><img src=\"../images/nyc-measles-cases-by-vaccination-status-bar-chart.png\"></td>\n",
    "    </tr>\n",
    "</table>"
   ]
  },
  {
   "cell_type": "markdown",
   "metadata": {},
   "source": [
    "### NYC measles cases by neighborhood\n",
    "\n",
    "* Example of how to use bokeh to create a bubble map visualization.\n",
    "* Show and discuss the several design decisions to provide context and clarity:\n",
    "    * Explain how in this case it is better to use a static rather than an interactive map.\n",
    "    * Explain the decision to show labels with the names of the neighborhoods and the respective number of measles. Although the labels “clutter” the map, they are important because they help identify the neighborhoods.\n",
    "* Insights: The bubble map clearly shows all the NYC neighborhoods with measles cases, using the bubble size to represent the number of cases.\n",
    "* Below, we compare the SVG and PNG versions of the map to highlight an issue with the embedding of the SVG image in an HTML page: the background map (in the SVG image) is not displayed.\n",
    "* Notebook used to create this bubble map visualization: `nyc-measles-cases-by-neighborhood-final.ipynb` ( [.ipynb](./nyc-measles-cases-by-neighborhood-final.ipynb) ) ( [.html](https://carlos-afonso.github.io/measles/pydata-nyc-2019/notebooks/nyc-measles-cases-by-neighborhood-final.html) )\n",
    "    * If you have problems seeing the .ipynb version, you can always see the static .html version."
   ]
  },
  {
   "cell_type": "markdown",
   "metadata": {},
   "source": [
    "<table style=\"table-layout:fixed; width:100%;\">\n",
    "    <tr>\n",
    "        <th>SVG</th>\n",
    "        <th>PNG</th>\n",
    "    </tr>\n",
    "    <tr>\n",
    "        <td style=\"padding:30px; vertical-align:top;\"><img src=\"../images/nyc-measles-cases-by-neighborhood-map-final.svg\"></td>\n",
    "        <td style=\"padding:30px; vertical-align:top;\"><img src=\"../images/nyc-measles-cases-by-neighborhood-map-final.png\"></td>\n",
    "    </tr>\n",
    "</table>"
   ]
  },
  {
   "cell_type": "markdown",
   "metadata": {},
   "source": [
    "## Project webpage\n",
    "\n",
    "All data visualizations are shown in the project homepage (using GitHub Pages): https://carlos-afonso.github.io/measles\n",
    "\n",
    "Reference: [Working with GitHub Pages](https://help.github.com/en/github/working-with-github-pages)"
   ]
  },
  {
   "cell_type": "markdown",
   "metadata": {},
   "source": [
    "## Export notebook as HTML"
   ]
  },
  {
   "cell_type": "code",
   "execution_count": 6,
   "metadata": {},
   "outputs": [
    {
     "data": {
      "text/plain": [
       "0"
      ]
     },
     "execution_count": 6,
     "metadata": {},
     "output_type": "execute_result"
    }
   ],
   "source": [
    "# Export this notebook as a static HTML page\n",
    "os.system('jupyter nbconvert --to html pydata-nyc-2019-tutorial.ipynb')"
   ]
  }
 ],
 "metadata": {
  "kernelspec": {
   "display_name": "Python 3",
   "language": "python",
   "name": "python3"
  },
  "language_info": {
   "codemirror_mode": {
    "name": "ipython",
    "version": 3
   },
   "file_extension": ".py",
   "mimetype": "text/x-python",
   "name": "python",
   "nbconvert_exporter": "python",
   "pygments_lexer": "ipython3",
   "version": "3.7.4"
  },
  "toc-autonumbering": false
 },
 "nbformat": 4,
 "nbformat_minor": 4
}
